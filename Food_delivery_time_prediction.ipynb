{
 "cells": [
  {
   "cell_type": "code",
   "execution_count": 1,
   "id": "49453a57",
   "metadata": {},
   "outputs": [],
   "source": [
    "#Importing necessary libraries\n",
    "import pandas as pd\n",
    "import numpy as np\n",
    "import re\n",
    "from tqdm import tqdm"
   ]
  },
  {
   "cell_type": "code",
   "execution_count": 3,
   "id": "5a0962e6",
   "metadata": {},
   "outputs": [],
   "source": [
    "train = pd.read_csv('F:\\Predicting-Food-Delivery-Time---Hackathon-by-IMS-Proschool-master\\Data_Train_food.csv')\n",
    "test = pd.read_csv('F:\\Predicting-Food-Delivery-Time---Hackathon-by-IMS-Proschool-master\\Data_Test_food.csv')"
   ]
  },
  {
   "cell_type": "code",
   "execution_count": 7,
   "id": "a560d060",
   "metadata": {},
   "outputs": [
    {
     "data": {
      "text/plain": [
       "(11094, 9)"
      ]
     },
     "execution_count": 7,
     "metadata": {},
     "output_type": "execute_result"
    }
   ],
   "source": [
    "train.shape"
   ]
  },
  {
   "cell_type": "code",
   "execution_count": 8,
   "id": "f378250c",
   "metadata": {},
   "outputs": [
    {
     "data": {
      "text/plain": [
       "Index(['Restaurant', 'Location', 'Cuisines', 'Average_Cost', 'Minimum_Order',\n",
       "       'Rating', 'Votes', 'Reviews', 'Delivery_Time'],\n",
       "      dtype='object')"
      ]
     },
     "execution_count": 8,
     "metadata": {},
     "output_type": "execute_result"
    }
   ],
   "source": [
    "train.columns"
   ]
  },
  {
   "cell_type": "code",
   "execution_count": 9,
   "id": "901365eb",
   "metadata": {},
   "outputs": [
    {
     "data": {
      "text/html": [
       "<div>\n",
       "<style scoped>\n",
       "    .dataframe tbody tr th:only-of-type {\n",
       "        vertical-align: middle;\n",
       "    }\n",
       "\n",
       "    .dataframe tbody tr th {\n",
       "        vertical-align: top;\n",
       "    }\n",
       "\n",
       "    .dataframe thead th {\n",
       "        text-align: right;\n",
       "    }\n",
       "</style>\n",
       "<table border=\"1\" class=\"dataframe\">\n",
       "  <thead>\n",
       "    <tr style=\"text-align: right;\">\n",
       "      <th></th>\n",
       "      <th>Restaurant</th>\n",
       "      <th>Location</th>\n",
       "      <th>Cuisines</th>\n",
       "      <th>Average_Cost</th>\n",
       "      <th>Minimum_Order</th>\n",
       "      <th>Rating</th>\n",
       "      <th>Votes</th>\n",
       "      <th>Reviews</th>\n",
       "      <th>Delivery_Time</th>\n",
       "    </tr>\n",
       "  </thead>\n",
       "  <tbody>\n",
       "    <tr>\n",
       "      <th>0</th>\n",
       "      <td>ID_6321</td>\n",
       "      <td>FTI College, Law College Road, Pune</td>\n",
       "      <td>Fast Food, Rolls, Burger, Salad, Wraps</td>\n",
       "      <td>₹200</td>\n",
       "      <td>₹50</td>\n",
       "      <td>3.5</td>\n",
       "      <td>12</td>\n",
       "      <td>4</td>\n",
       "      <td>30 minutes</td>\n",
       "    </tr>\n",
       "    <tr>\n",
       "      <th>1</th>\n",
       "      <td>ID_2882</td>\n",
       "      <td>Sector 3, Marathalli</td>\n",
       "      <td>Ice Cream, Desserts</td>\n",
       "      <td>₹100</td>\n",
       "      <td>₹50</td>\n",
       "      <td>3.5</td>\n",
       "      <td>11</td>\n",
       "      <td>4</td>\n",
       "      <td>30 minutes</td>\n",
       "    </tr>\n",
       "    <tr>\n",
       "      <th>2</th>\n",
       "      <td>ID_1595</td>\n",
       "      <td>Mumbai Central</td>\n",
       "      <td>Italian, Street Food, Fast Food</td>\n",
       "      <td>₹150</td>\n",
       "      <td>₹50</td>\n",
       "      <td>3.6</td>\n",
       "      <td>99</td>\n",
       "      <td>30</td>\n",
       "      <td>65 minutes</td>\n",
       "    </tr>\n",
       "    <tr>\n",
       "      <th>3</th>\n",
       "      <td>ID_5929</td>\n",
       "      <td>Sector 1, Noida</td>\n",
       "      <td>Mughlai, North Indian, Chinese</td>\n",
       "      <td>₹250</td>\n",
       "      <td>₹99</td>\n",
       "      <td>3.7</td>\n",
       "      <td>176</td>\n",
       "      <td>95</td>\n",
       "      <td>30 minutes</td>\n",
       "    </tr>\n",
       "    <tr>\n",
       "      <th>4</th>\n",
       "      <td>ID_6123</td>\n",
       "      <td>Rmz Centennial, I Gate, Whitefield</td>\n",
       "      <td>Cafe, Beverages</td>\n",
       "      <td>₹200</td>\n",
       "      <td>₹99</td>\n",
       "      <td>3.2</td>\n",
       "      <td>521</td>\n",
       "      <td>235</td>\n",
       "      <td>65 minutes</td>\n",
       "    </tr>\n",
       "  </tbody>\n",
       "</table>\n",
       "</div>"
      ],
      "text/plain": [
       "  Restaurant                             Location  \\\n",
       "0    ID_6321  FTI College, Law College Road, Pune   \n",
       "1    ID_2882                 Sector 3, Marathalli   \n",
       "2    ID_1595                       Mumbai Central   \n",
       "3    ID_5929                      Sector 1, Noida   \n",
       "4    ID_6123   Rmz Centennial, I Gate, Whitefield   \n",
       "\n",
       "                                 Cuisines Average_Cost Minimum_Order Rating  \\\n",
       "0  Fast Food, Rolls, Burger, Salad, Wraps         ₹200           ₹50    3.5   \n",
       "1                     Ice Cream, Desserts         ₹100           ₹50    3.5   \n",
       "2         Italian, Street Food, Fast Food         ₹150           ₹50    3.6   \n",
       "3          Mughlai, North Indian, Chinese         ₹250           ₹99    3.7   \n",
       "4                         Cafe, Beverages         ₹200           ₹99    3.2   \n",
       "\n",
       "  Votes Reviews Delivery_Time  \n",
       "0    12       4    30 minutes  \n",
       "1    11       4    30 minutes  \n",
       "2    99      30    65 minutes  \n",
       "3   176      95    30 minutes  \n",
       "4   521     235    65 minutes  "
      ]
     },
     "execution_count": 9,
     "metadata": {},
     "output_type": "execute_result"
    }
   ],
   "source": [
    "train.head()\n"
   ]
  },
  {
   "cell_type": "code",
   "execution_count": 10,
   "id": "07c37dba",
   "metadata": {},
   "outputs": [
    {
     "data": {
      "text/plain": [
       "Restaurant       0\n",
       "Location         0\n",
       "Cuisines         0\n",
       "Average_Cost     0\n",
       "Minimum_Order    0\n",
       "Rating           0\n",
       "Votes            0\n",
       "Reviews          0\n",
       "Delivery_Time    0\n",
       "dtype: int64"
      ]
     },
     "execution_count": 10,
     "metadata": {},
     "output_type": "execute_result"
    }
   ],
   "source": [
    "train.isnull().sum()\n"
   ]
  },
  {
   "cell_type": "code",
   "execution_count": 11,
   "id": "4fde8784",
   "metadata": {},
   "outputs": [
    {
     "data": {
      "text/html": [
       "<div>\n",
       "<style scoped>\n",
       "    .dataframe tbody tr th:only-of-type {\n",
       "        vertical-align: middle;\n",
       "    }\n",
       "\n",
       "    .dataframe tbody tr th {\n",
       "        vertical-align: top;\n",
       "    }\n",
       "\n",
       "    .dataframe thead th {\n",
       "        text-align: right;\n",
       "    }\n",
       "</style>\n",
       "<table border=\"1\" class=\"dataframe\">\n",
       "  <thead>\n",
       "    <tr style=\"text-align: right;\">\n",
       "      <th></th>\n",
       "      <th>Restaurant</th>\n",
       "      <th>Location</th>\n",
       "      <th>Cuisines</th>\n",
       "      <th>Average_Cost</th>\n",
       "      <th>Minimum_Order</th>\n",
       "      <th>Rating</th>\n",
       "      <th>Votes</th>\n",
       "      <th>Reviews</th>\n",
       "      <th>Delivery_Time</th>\n",
       "    </tr>\n",
       "  </thead>\n",
       "  <tbody>\n",
       "    <tr>\n",
       "      <th>count</th>\n",
       "      <td>11094</td>\n",
       "      <td>11094</td>\n",
       "      <td>11094</td>\n",
       "      <td>11094</td>\n",
       "      <td>11094</td>\n",
       "      <td>11094</td>\n",
       "      <td>11094</td>\n",
       "      <td>11094</td>\n",
       "      <td>11094</td>\n",
       "    </tr>\n",
       "    <tr>\n",
       "      <th>unique</th>\n",
       "      <td>7480</td>\n",
       "      <td>35</td>\n",
       "      <td>2179</td>\n",
       "      <td>26</td>\n",
       "      <td>18</td>\n",
       "      <td>33</td>\n",
       "      <td>1103</td>\n",
       "      <td>761</td>\n",
       "      <td>7</td>\n",
       "    </tr>\n",
       "    <tr>\n",
       "      <th>top</th>\n",
       "      <td>ID_7184</td>\n",
       "      <td>Mico Layout, Stage 2, BTM Layout,Bangalore</td>\n",
       "      <td>North Indian</td>\n",
       "      <td>₹200</td>\n",
       "      <td>₹50</td>\n",
       "      <td>-</td>\n",
       "      <td>-</td>\n",
       "      <td>-</td>\n",
       "      <td>30 minutes</td>\n",
       "    </tr>\n",
       "    <tr>\n",
       "      <th>freq</th>\n",
       "      <td>22</td>\n",
       "      <td>947</td>\n",
       "      <td>850</td>\n",
       "      <td>3241</td>\n",
       "      <td>10118</td>\n",
       "      <td>1191</td>\n",
       "      <td>2074</td>\n",
       "      <td>2312</td>\n",
       "      <td>7406</td>\n",
       "    </tr>\n",
       "  </tbody>\n",
       "</table>\n",
       "</div>"
      ],
      "text/plain": [
       "       Restaurant                                    Location      Cuisines  \\\n",
       "count       11094                                       11094         11094   \n",
       "unique       7480                                          35          2179   \n",
       "top       ID_7184  Mico Layout, Stage 2, BTM Layout,Bangalore  North Indian   \n",
       "freq           22                                         947           850   \n",
       "\n",
       "       Average_Cost Minimum_Order Rating  Votes Reviews Delivery_Time  \n",
       "count         11094         11094  11094  11094   11094         11094  \n",
       "unique           26            18     33   1103     761             7  \n",
       "top            ₹200           ₹50      -      -       -    30 minutes  \n",
       "freq           3241         10118   1191   2074    2312          7406  "
      ]
     },
     "execution_count": 11,
     "metadata": {},
     "output_type": "execute_result"
    }
   ],
   "source": [
    "train.describe(include = 'all')\n"
   ]
  },
  {
   "cell_type": "code",
   "execution_count": 12,
   "id": "10ee9627",
   "metadata": {},
   "outputs": [
    {
     "name": "stdout",
     "output_type": "stream",
     "text": [
      "<class 'pandas.core.frame.DataFrame'>\n",
      "RangeIndex: 11094 entries, 0 to 11093\n",
      "Data columns (total 9 columns):\n",
      " #   Column         Non-Null Count  Dtype \n",
      "---  ------         --------------  ----- \n",
      " 0   Restaurant     11094 non-null  object\n",
      " 1   Location       11094 non-null  object\n",
      " 2   Cuisines       11094 non-null  object\n",
      " 3   Average_Cost   11094 non-null  object\n",
      " 4   Minimum_Order  11094 non-null  object\n",
      " 5   Rating         11094 non-null  object\n",
      " 6   Votes          11094 non-null  object\n",
      " 7   Reviews        11094 non-null  object\n",
      " 8   Delivery_Time  11094 non-null  object\n",
      "dtypes: object(9)\n",
      "memory usage: 780.2+ KB\n"
     ]
    }
   ],
   "source": [
    "train.info()\n"
   ]
  },
  {
   "cell_type": "code",
   "execution_count": 13,
   "id": "ceb93992",
   "metadata": {},
   "outputs": [
    {
     "data": {
      "text/plain": [
       "(2774, 8)"
      ]
     },
     "execution_count": 13,
     "metadata": {},
     "output_type": "execute_result"
    }
   ],
   "source": [
    "test.shape"
   ]
  },
  {
   "cell_type": "code",
   "execution_count": 14,
   "id": "40a83d18",
   "metadata": {},
   "outputs": [
    {
     "data": {
      "text/plain": [
       "Index(['Restaurant', 'Location', 'Cuisines', 'Average_Cost', 'Minimum_Order',\n",
       "       'Rating', 'Votes', 'Reviews'],\n",
       "      dtype='object')"
      ]
     },
     "execution_count": 14,
     "metadata": {},
     "output_type": "execute_result"
    }
   ],
   "source": [
    "test.columns\n"
   ]
  },
  {
   "cell_type": "code",
   "execution_count": 15,
   "id": "f5a25708",
   "metadata": {},
   "outputs": [
    {
     "data": {
      "text/html": [
       "<div>\n",
       "<style scoped>\n",
       "    .dataframe tbody tr th:only-of-type {\n",
       "        vertical-align: middle;\n",
       "    }\n",
       "\n",
       "    .dataframe tbody tr th {\n",
       "        vertical-align: top;\n",
       "    }\n",
       "\n",
       "    .dataframe thead th {\n",
       "        text-align: right;\n",
       "    }\n",
       "</style>\n",
       "<table border=\"1\" class=\"dataframe\">\n",
       "  <thead>\n",
       "    <tr style=\"text-align: right;\">\n",
       "      <th></th>\n",
       "      <th>Restaurant</th>\n",
       "      <th>Location</th>\n",
       "      <th>Cuisines</th>\n",
       "      <th>Average_Cost</th>\n",
       "      <th>Minimum_Order</th>\n",
       "      <th>Rating</th>\n",
       "      <th>Votes</th>\n",
       "      <th>Reviews</th>\n",
       "    </tr>\n",
       "  </thead>\n",
       "  <tbody>\n",
       "    <tr>\n",
       "      <th>0</th>\n",
       "      <td>ID_2842</td>\n",
       "      <td>Mico Layout, Stage 2, BTM Layout,Bangalore</td>\n",
       "      <td>North Indian, Chinese, Assamese</td>\n",
       "      <td>₹350</td>\n",
       "      <td>₹50</td>\n",
       "      <td>4.2</td>\n",
       "      <td>361</td>\n",
       "      <td>225</td>\n",
       "    </tr>\n",
       "    <tr>\n",
       "      <th>1</th>\n",
       "      <td>ID_730</td>\n",
       "      <td>Mico Layout, Stage 2, BTM Layout,Bangalore</td>\n",
       "      <td>Biryani, Kebab</td>\n",
       "      <td>₹100</td>\n",
       "      <td>₹50</td>\n",
       "      <td>NEW</td>\n",
       "      <td>-</td>\n",
       "      <td>-</td>\n",
       "    </tr>\n",
       "    <tr>\n",
       "      <th>2</th>\n",
       "      <td>ID_4620</td>\n",
       "      <td>Sector 1, Noida</td>\n",
       "      <td>Fast Food</td>\n",
       "      <td>₹100</td>\n",
       "      <td>₹50</td>\n",
       "      <td>3.6</td>\n",
       "      <td>36</td>\n",
       "      <td>16</td>\n",
       "    </tr>\n",
       "    <tr>\n",
       "      <th>3</th>\n",
       "      <td>ID_5470</td>\n",
       "      <td>Babarpur, New Delhi, Delhi</td>\n",
       "      <td>Mithai, North Indian, Chinese, Fast Food, Sout...</td>\n",
       "      <td>₹200</td>\n",
       "      <td>₹50</td>\n",
       "      <td>3.6</td>\n",
       "      <td>66</td>\n",
       "      <td>33</td>\n",
       "    </tr>\n",
       "    <tr>\n",
       "      <th>4</th>\n",
       "      <td>ID_3249</td>\n",
       "      <td>Sector 1, Noida</td>\n",
       "      <td>Chinese, Fast Food</td>\n",
       "      <td>₹150</td>\n",
       "      <td>₹50</td>\n",
       "      <td>2.9</td>\n",
       "      <td>38</td>\n",
       "      <td>14</td>\n",
       "    </tr>\n",
       "  </tbody>\n",
       "</table>\n",
       "</div>"
      ],
      "text/plain": [
       "  Restaurant                                    Location  \\\n",
       "0    ID_2842  Mico Layout, Stage 2, BTM Layout,Bangalore   \n",
       "1     ID_730  Mico Layout, Stage 2, BTM Layout,Bangalore   \n",
       "2    ID_4620                             Sector 1, Noida   \n",
       "3    ID_5470                  Babarpur, New Delhi, Delhi   \n",
       "4    ID_3249                             Sector 1, Noida   \n",
       "\n",
       "                                            Cuisines Average_Cost  \\\n",
       "0                    North Indian, Chinese, Assamese         ₹350   \n",
       "1                                     Biryani, Kebab         ₹100   \n",
       "2                                          Fast Food         ₹100   \n",
       "3  Mithai, North Indian, Chinese, Fast Food, Sout...         ₹200   \n",
       "4                                 Chinese, Fast Food         ₹150   \n",
       "\n",
       "  Minimum_Order Rating Votes Reviews  \n",
       "0           ₹50    4.2   361     225  \n",
       "1           ₹50    NEW     -       -  \n",
       "2           ₹50    3.6    36      16  \n",
       "3           ₹50    3.6    66      33  \n",
       "4           ₹50    2.9    38      14  "
      ]
     },
     "execution_count": 15,
     "metadata": {},
     "output_type": "execute_result"
    }
   ],
   "source": [
    "test.head()\n"
   ]
  },
  {
   "cell_type": "code",
   "execution_count": 17,
   "id": "2cf14acc",
   "metadata": {},
   "outputs": [
    {
     "data": {
      "text/plain": [
       "Restaurant       0\n",
       "Location         0\n",
       "Cuisines         0\n",
       "Average_Cost     0\n",
       "Minimum_Order    0\n",
       "Rating           0\n",
       "Votes            0\n",
       "Reviews          0\n",
       "dtype: int64"
      ]
     },
     "execution_count": 17,
     "metadata": {},
     "output_type": "execute_result"
    }
   ],
   "source": [
    "test.isnull().sum()\n"
   ]
  },
  {
   "cell_type": "code",
   "execution_count": 19,
   "id": "8346ef4c",
   "metadata": {},
   "outputs": [
    {
     "name": "stdout",
     "output_type": "stream",
     "text": [
      "<class 'pandas.core.frame.DataFrame'>\n",
      "RangeIndex: 2774 entries, 0 to 2773\n",
      "Data columns (total 8 columns):\n",
      " #   Column         Non-Null Count  Dtype \n",
      "---  ------         --------------  ----- \n",
      " 0   Restaurant     2774 non-null   object\n",
      " 1   Location       2774 non-null   object\n",
      " 2   Cuisines       2774 non-null   object\n",
      " 3   Average_Cost   2774 non-null   object\n",
      " 4   Minimum_Order  2774 non-null   object\n",
      " 5   Rating         2774 non-null   object\n",
      " 6   Votes          2774 non-null   object\n",
      " 7   Reviews        2774 non-null   object\n",
      "dtypes: object(8)\n",
      "memory usage: 173.5+ KB\n"
     ]
    }
   ],
   "source": [
    "test.info()\n"
   ]
  },
  {
   "cell_type": "code",
   "execution_count": 20,
   "id": "79aed9cb",
   "metadata": {},
   "outputs": [
    {
     "data": {
      "text/html": [
       "<div>\n",
       "<style scoped>\n",
       "    .dataframe tbody tr th:only-of-type {\n",
       "        vertical-align: middle;\n",
       "    }\n",
       "\n",
       "    .dataframe tbody tr th {\n",
       "        vertical-align: top;\n",
       "    }\n",
       "\n",
       "    .dataframe thead th {\n",
       "        text-align: right;\n",
       "    }\n",
       "</style>\n",
       "<table border=\"1\" class=\"dataframe\">\n",
       "  <thead>\n",
       "    <tr style=\"text-align: right;\">\n",
       "      <th></th>\n",
       "      <th>Restaurant</th>\n",
       "      <th>Location</th>\n",
       "      <th>Cuisines</th>\n",
       "      <th>Average_Cost</th>\n",
       "      <th>Minimum_Order</th>\n",
       "      <th>Rating</th>\n",
       "      <th>Votes</th>\n",
       "      <th>Reviews</th>\n",
       "    </tr>\n",
       "  </thead>\n",
       "  <tbody>\n",
       "    <tr>\n",
       "      <th>count</th>\n",
       "      <td>2774</td>\n",
       "      <td>2774</td>\n",
       "      <td>2774</td>\n",
       "      <td>2774</td>\n",
       "      <td>2774</td>\n",
       "      <td>2774</td>\n",
       "      <td>2774</td>\n",
       "      <td>2774</td>\n",
       "    </tr>\n",
       "    <tr>\n",
       "      <th>unique</th>\n",
       "      <td>2401</td>\n",
       "      <td>35</td>\n",
       "      <td>881</td>\n",
       "      <td>19</td>\n",
       "      <td>9</td>\n",
       "      <td>30</td>\n",
       "      <td>580</td>\n",
       "      <td>392</td>\n",
       "    </tr>\n",
       "    <tr>\n",
       "      <th>top</th>\n",
       "      <td>ID_1209</td>\n",
       "      <td>D-Block, Sector 63, Noida</td>\n",
       "      <td>North Indian</td>\n",
       "      <td>₹200</td>\n",
       "      <td>₹50</td>\n",
       "      <td>-</td>\n",
       "      <td>-</td>\n",
       "      <td>-</td>\n",
       "    </tr>\n",
       "    <tr>\n",
       "      <th>freq</th>\n",
       "      <td>8</td>\n",
       "      <td>221</td>\n",
       "      <td>226</td>\n",
       "      <td>820</td>\n",
       "      <td>2556</td>\n",
       "      <td>305</td>\n",
       "      <td>542</td>\n",
       "      <td>593</td>\n",
       "    </tr>\n",
       "  </tbody>\n",
       "</table>\n",
       "</div>"
      ],
      "text/plain": [
       "       Restaurant                   Location      Cuisines Average_Cost  \\\n",
       "count        2774                       2774          2774         2774   \n",
       "unique       2401                         35           881           19   \n",
       "top       ID_1209  D-Block, Sector 63, Noida  North Indian         ₹200   \n",
       "freq            8                        221           226          820   \n",
       "\n",
       "       Minimum_Order Rating Votes Reviews  \n",
       "count           2774   2774  2774    2774  \n",
       "unique             9     30   580     392  \n",
       "top              ₹50      -     -       -  \n",
       "freq            2556    305   542     593  "
      ]
     },
     "execution_count": 20,
     "metadata": {},
     "output_type": "execute_result"
    }
   ],
   "source": [
    "test.describe(include = 'all')\n"
   ]
  },
  {
   "cell_type": "markdown",
   "id": "ea6f5f20",
   "metadata": {},
   "source": [
    "### Data Cleaning"
   ]
  },
  {
   "cell_type": "code",
   "execution_count": 21,
   "id": "f0f49add",
   "metadata": {},
   "outputs": [
    {
     "data": {
      "text/html": [
       "<div>\n",
       "<style scoped>\n",
       "    .dataframe tbody tr th:only-of-type {\n",
       "        vertical-align: middle;\n",
       "    }\n",
       "\n",
       "    .dataframe tbody tr th {\n",
       "        vertical-align: top;\n",
       "    }\n",
       "\n",
       "    .dataframe thead th {\n",
       "        text-align: right;\n",
       "    }\n",
       "</style>\n",
       "<table border=\"1\" class=\"dataframe\">\n",
       "  <thead>\n",
       "    <tr style=\"text-align: right;\">\n",
       "      <th></th>\n",
       "      <th>Restaurant</th>\n",
       "      <th>Location</th>\n",
       "      <th>Cuisines</th>\n",
       "      <th>Average_Cost</th>\n",
       "      <th>Minimum_Order</th>\n",
       "      <th>Rating</th>\n",
       "      <th>Votes</th>\n",
       "      <th>Reviews</th>\n",
       "      <th>Delivery_Time</th>\n",
       "    </tr>\n",
       "  </thead>\n",
       "  <tbody>\n",
       "    <tr>\n",
       "      <th>0</th>\n",
       "      <td>ID_6321</td>\n",
       "      <td>FTI College, Law College Road, Pune</td>\n",
       "      <td>Fast Food, Rolls, Burger, Salad, Wraps</td>\n",
       "      <td>₹200</td>\n",
       "      <td>₹50</td>\n",
       "      <td>3.5</td>\n",
       "      <td>12</td>\n",
       "      <td>4</td>\n",
       "      <td>30 minutes</td>\n",
       "    </tr>\n",
       "    <tr>\n",
       "      <th>1</th>\n",
       "      <td>ID_2882</td>\n",
       "      <td>Sector 3, Marathalli</td>\n",
       "      <td>Ice Cream, Desserts</td>\n",
       "      <td>₹100</td>\n",
       "      <td>₹50</td>\n",
       "      <td>3.5</td>\n",
       "      <td>11</td>\n",
       "      <td>4</td>\n",
       "      <td>30 minutes</td>\n",
       "    </tr>\n",
       "    <tr>\n",
       "      <th>2</th>\n",
       "      <td>ID_1595</td>\n",
       "      <td>Mumbai Central</td>\n",
       "      <td>Italian, Street Food, Fast Food</td>\n",
       "      <td>₹150</td>\n",
       "      <td>₹50</td>\n",
       "      <td>3.6</td>\n",
       "      <td>99</td>\n",
       "      <td>30</td>\n",
       "      <td>65 minutes</td>\n",
       "    </tr>\n",
       "    <tr>\n",
       "      <th>3</th>\n",
       "      <td>ID_5929</td>\n",
       "      <td>Sector 1, Noida</td>\n",
       "      <td>Mughlai, North Indian, Chinese</td>\n",
       "      <td>₹250</td>\n",
       "      <td>₹99</td>\n",
       "      <td>3.7</td>\n",
       "      <td>176</td>\n",
       "      <td>95</td>\n",
       "      <td>30 minutes</td>\n",
       "    </tr>\n",
       "    <tr>\n",
       "      <th>4</th>\n",
       "      <td>ID_6123</td>\n",
       "      <td>Rmz Centennial, I Gate, Whitefield</td>\n",
       "      <td>Cafe, Beverages</td>\n",
       "      <td>₹200</td>\n",
       "      <td>₹99</td>\n",
       "      <td>3.2</td>\n",
       "      <td>521</td>\n",
       "      <td>235</td>\n",
       "      <td>65 minutes</td>\n",
       "    </tr>\n",
       "  </tbody>\n",
       "</table>\n",
       "</div>"
      ],
      "text/plain": [
       "  Restaurant                             Location  \\\n",
       "0    ID_6321  FTI College, Law College Road, Pune   \n",
       "1    ID_2882                 Sector 3, Marathalli   \n",
       "2    ID_1595                       Mumbai Central   \n",
       "3    ID_5929                      Sector 1, Noida   \n",
       "4    ID_6123   Rmz Centennial, I Gate, Whitefield   \n",
       "\n",
       "                                 Cuisines Average_Cost Minimum_Order Rating  \\\n",
       "0  Fast Food, Rolls, Burger, Salad, Wraps         ₹200           ₹50    3.5   \n",
       "1                     Ice Cream, Desserts         ₹100           ₹50    3.5   \n",
       "2         Italian, Street Food, Fast Food         ₹150           ₹50    3.6   \n",
       "3          Mughlai, North Indian, Chinese         ₹250           ₹99    3.7   \n",
       "4                         Cafe, Beverages         ₹200           ₹99    3.2   \n",
       "\n",
       "  Votes Reviews Delivery_Time  \n",
       "0    12       4    30 minutes  \n",
       "1    11       4    30 minutes  \n",
       "2    99      30    65 minutes  \n",
       "3   176      95    30 minutes  \n",
       "4   521     235    65 minutes  "
      ]
     },
     "execution_count": 21,
     "metadata": {},
     "output_type": "execute_result"
    }
   ],
   "source": [
    "train.head()"
   ]
  },
  {
   "cell_type": "code",
   "execution_count": 22,
   "id": "d2aada42",
   "metadata": {},
   "outputs": [
    {
     "data": {
      "text/plain": [
       "array(['₹200', '₹100', '₹150', '₹250', '₹650', '₹350', '₹800', '₹50',\n",
       "       '₹400', '₹600', '₹300', '₹750', '₹450', '₹550', '₹1,000', '₹500',\n",
       "       '₹900', '₹1,200', '₹950', '₹850', '₹700', '₹1,150', 'for',\n",
       "       '₹1,100', '₹1,400', '₹2,050'], dtype=object)"
      ]
     },
     "execution_count": 22,
     "metadata": {},
     "output_type": "execute_result"
    }
   ],
   "source": [
    "#Finding the unique values in Average_Cost\n",
    "train['Average_Cost'].unique()"
   ]
  },
  {
   "cell_type": "code",
   "execution_count": 23,
   "id": "e88be806",
   "metadata": {},
   "outputs": [
    {
     "data": {
      "text/html": [
       "<div>\n",
       "<style scoped>\n",
       "    .dataframe tbody tr th:only-of-type {\n",
       "        vertical-align: middle;\n",
       "    }\n",
       "\n",
       "    .dataframe tbody tr th {\n",
       "        vertical-align: top;\n",
       "    }\n",
       "\n",
       "    .dataframe thead th {\n",
       "        text-align: right;\n",
       "    }\n",
       "</style>\n",
       "<table border=\"1\" class=\"dataframe\">\n",
       "  <thead>\n",
       "    <tr style=\"text-align: right;\">\n",
       "      <th></th>\n",
       "      <th>Restaurant</th>\n",
       "      <th>Location</th>\n",
       "      <th>Cuisines</th>\n",
       "      <th>Average_Cost</th>\n",
       "      <th>Minimum_Order</th>\n",
       "      <th>Rating</th>\n",
       "      <th>Votes</th>\n",
       "      <th>Reviews</th>\n",
       "      <th>Delivery_Time</th>\n",
       "    </tr>\n",
       "  </thead>\n",
       "  <tbody>\n",
       "    <tr>\n",
       "      <th>6297</th>\n",
       "      <td>ID_6472</td>\n",
       "      <td>Pune University</td>\n",
       "      <td>Fast Food</td>\n",
       "      <td>for</td>\n",
       "      <td>₹50</td>\n",
       "      <td>NEW</td>\n",
       "      <td>-</td>\n",
       "      <td>-</td>\n",
       "      <td>30 minutes</td>\n",
       "    </tr>\n",
       "  </tbody>\n",
       "</table>\n",
       "</div>"
      ],
      "text/plain": [
       "     Restaurant         Location   Cuisines Average_Cost Minimum_Order Rating  \\\n",
       "6297    ID_6472  Pune University  Fast Food          for           ₹50    NEW   \n",
       "\n",
       "     Votes Reviews Delivery_Time  \n",
       "6297     -       -    30 minutes  "
      ]
     },
     "execution_count": 23,
     "metadata": {},
     "output_type": "execute_result"
    }
   ],
   "source": [
    "train[train['Average_Cost'] == 'for']"
   ]
  },
  {
   "cell_type": "code",
   "execution_count": 25,
   "id": "e763d409",
   "metadata": {},
   "outputs": [],
   "source": [
    "#replacing 'for' with 200\n",
    "train['Average_Cost'].replace('for', '200', inplace = True)"
   ]
  },
  {
   "cell_type": "code",
   "execution_count": 26,
   "id": "df7dc92d",
   "metadata": {},
   "outputs": [],
   "source": [
    "train['Average_Cost_Cleaned'] = train['Average_Cost'].apply(lambda x: int(re.sub(\"[^0-9]\", \"\", x)))"
   ]
  },
  {
   "cell_type": "code",
   "execution_count": 27,
   "id": "4e374613",
   "metadata": {},
   "outputs": [
    {
     "data": {
      "text/plain": [
       "array([ 200,  100,  150,  250,  650,  350,  800,   50,  400,  600,  300,\n",
       "        750,  450,  550, 1000,  500,  900, 1200,  950,  850,  700, 1150,\n",
       "       1100, 1400, 2050], dtype=int64)"
      ]
     },
     "execution_count": 27,
     "metadata": {},
     "output_type": "execute_result"
    }
   ],
   "source": [
    "train['Average_Cost_Cleaned'].unique()"
   ]
  },
  {
   "cell_type": "code",
   "execution_count": 28,
   "id": "03675250",
   "metadata": {},
   "outputs": [
    {
     "data": {
      "text/plain": [
       "array(['₹350', '₹100', '₹200', '₹150', '₹300', '₹50', '₹250', '₹500',\n",
       "       '₹650', '₹400', '₹550', '₹450', '₹600', '₹750', '₹850', '₹1,000',\n",
       "       '₹700', '₹800', '₹1,200'], dtype=object)"
      ]
     },
     "execution_count": 28,
     "metadata": {},
     "output_type": "execute_result"
    }
   ],
   "source": [
    "test['Average_Cost'].unique()"
   ]
  },
  {
   "cell_type": "code",
   "execution_count": 29,
   "id": "81cd46e8",
   "metadata": {},
   "outputs": [],
   "source": [
    "test['Average_Cost_Cleaned'] = test['Average_Cost'].apply(lambda x: int(re.sub(\"[^0-9]\", \"\", x)))"
   ]
  },
  {
   "cell_type": "code",
   "execution_count": 30,
   "id": "92e2a682",
   "metadata": {},
   "outputs": [
    {
     "data": {
      "text/plain": [
       "array([ 350,  100,  200,  150,  300,   50,  250,  500,  650,  400,  550,\n",
       "        450,  600,  750,  850, 1000,  700,  800, 1200], dtype=int64)"
      ]
     },
     "execution_count": 30,
     "metadata": {},
     "output_type": "execute_result"
    }
   ],
   "source": [
    "test['Average_Cost_Cleaned'].unique()"
   ]
  },
  {
   "cell_type": "code",
   "execution_count": 31,
   "id": "7c678700",
   "metadata": {},
   "outputs": [
    {
     "data": {
      "text/plain": [
       "array(['₹50', '₹99', '₹0', '₹200', '₹450', '₹350', '₹79', '₹400', '₹199',\n",
       "       '₹500', '₹250', '₹150', '₹90', '₹299', '₹300', '₹240', '₹89',\n",
       "       '₹59'], dtype=object)"
      ]
     },
     "execution_count": 31,
     "metadata": {},
     "output_type": "execute_result"
    }
   ],
   "source": [
    "train['Minimum_Order'].unique()"
   ]
  },
  {
   "cell_type": "code",
   "execution_count": 32,
   "id": "703c4d5c",
   "metadata": {},
   "outputs": [],
   "source": [
    "train['Minimum_Order_Cleaned'] = train['Minimum_Order'].apply(lambda x: int(re.sub(\"[^0-9]\", \"\", x)))"
   ]
  },
  {
   "cell_type": "code",
   "execution_count": 33,
   "id": "c0a2d844",
   "metadata": {},
   "outputs": [
    {
     "data": {
      "text/plain": [
       "array(['₹50', '₹99', '₹500', '₹0', '₹200', '₹149', '₹199', '₹399', '₹89'],\n",
       "      dtype=object)"
      ]
     },
     "execution_count": 33,
     "metadata": {},
     "output_type": "execute_result"
    }
   ],
   "source": [
    "test['Minimum_Order'].unique()"
   ]
  },
  {
   "cell_type": "code",
   "execution_count": 34,
   "id": "201cb7dd",
   "metadata": {},
   "outputs": [],
   "source": [
    "test['Minimum_Order_Cleaned'] = test['Minimum_Order'].apply(lambda x: int(re.sub(\"[^0-9]\", \"\", x)))"
   ]
  },
  {
   "cell_type": "code",
   "execution_count": 35,
   "id": "72b3b5cb",
   "metadata": {},
   "outputs": [
    {
     "data": {
      "text/html": [
       "<div>\n",
       "<style scoped>\n",
       "    .dataframe tbody tr th:only-of-type {\n",
       "        vertical-align: middle;\n",
       "    }\n",
       "\n",
       "    .dataframe tbody tr th {\n",
       "        vertical-align: top;\n",
       "    }\n",
       "\n",
       "    .dataframe thead th {\n",
       "        text-align: right;\n",
       "    }\n",
       "</style>\n",
       "<table border=\"1\" class=\"dataframe\">\n",
       "  <thead>\n",
       "    <tr style=\"text-align: right;\">\n",
       "      <th></th>\n",
       "      <th>Restaurant</th>\n",
       "      <th>Location</th>\n",
       "      <th>Cuisines</th>\n",
       "      <th>Average_Cost</th>\n",
       "      <th>Minimum_Order</th>\n",
       "      <th>Rating</th>\n",
       "      <th>Votes</th>\n",
       "      <th>Reviews</th>\n",
       "      <th>Delivery_Time</th>\n",
       "      <th>Average_Cost_Cleaned</th>\n",
       "      <th>Minimum_Order_Cleaned</th>\n",
       "    </tr>\n",
       "  </thead>\n",
       "  <tbody>\n",
       "    <tr>\n",
       "      <th>0</th>\n",
       "      <td>ID_6321</td>\n",
       "      <td>FTI College, Law College Road, Pune</td>\n",
       "      <td>Fast Food, Rolls, Burger, Salad, Wraps</td>\n",
       "      <td>₹200</td>\n",
       "      <td>₹50</td>\n",
       "      <td>3.5</td>\n",
       "      <td>12</td>\n",
       "      <td>4</td>\n",
       "      <td>30 minutes</td>\n",
       "      <td>200</td>\n",
       "      <td>50</td>\n",
       "    </tr>\n",
       "    <tr>\n",
       "      <th>1</th>\n",
       "      <td>ID_2882</td>\n",
       "      <td>Sector 3, Marathalli</td>\n",
       "      <td>Ice Cream, Desserts</td>\n",
       "      <td>₹100</td>\n",
       "      <td>₹50</td>\n",
       "      <td>3.5</td>\n",
       "      <td>11</td>\n",
       "      <td>4</td>\n",
       "      <td>30 minutes</td>\n",
       "      <td>100</td>\n",
       "      <td>50</td>\n",
       "    </tr>\n",
       "    <tr>\n",
       "      <th>2</th>\n",
       "      <td>ID_1595</td>\n",
       "      <td>Mumbai Central</td>\n",
       "      <td>Italian, Street Food, Fast Food</td>\n",
       "      <td>₹150</td>\n",
       "      <td>₹50</td>\n",
       "      <td>3.6</td>\n",
       "      <td>99</td>\n",
       "      <td>30</td>\n",
       "      <td>65 minutes</td>\n",
       "      <td>150</td>\n",
       "      <td>50</td>\n",
       "    </tr>\n",
       "    <tr>\n",
       "      <th>3</th>\n",
       "      <td>ID_5929</td>\n",
       "      <td>Sector 1, Noida</td>\n",
       "      <td>Mughlai, North Indian, Chinese</td>\n",
       "      <td>₹250</td>\n",
       "      <td>₹99</td>\n",
       "      <td>3.7</td>\n",
       "      <td>176</td>\n",
       "      <td>95</td>\n",
       "      <td>30 minutes</td>\n",
       "      <td>250</td>\n",
       "      <td>99</td>\n",
       "    </tr>\n",
       "    <tr>\n",
       "      <th>4</th>\n",
       "      <td>ID_6123</td>\n",
       "      <td>Rmz Centennial, I Gate, Whitefield</td>\n",
       "      <td>Cafe, Beverages</td>\n",
       "      <td>₹200</td>\n",
       "      <td>₹99</td>\n",
       "      <td>3.2</td>\n",
       "      <td>521</td>\n",
       "      <td>235</td>\n",
       "      <td>65 minutes</td>\n",
       "      <td>200</td>\n",
       "      <td>99</td>\n",
       "    </tr>\n",
       "  </tbody>\n",
       "</table>\n",
       "</div>"
      ],
      "text/plain": [
       "  Restaurant                             Location  \\\n",
       "0    ID_6321  FTI College, Law College Road, Pune   \n",
       "1    ID_2882                 Sector 3, Marathalli   \n",
       "2    ID_1595                       Mumbai Central   \n",
       "3    ID_5929                      Sector 1, Noida   \n",
       "4    ID_6123   Rmz Centennial, I Gate, Whitefield   \n",
       "\n",
       "                                 Cuisines Average_Cost Minimum_Order Rating  \\\n",
       "0  Fast Food, Rolls, Burger, Salad, Wraps         ₹200           ₹50    3.5   \n",
       "1                     Ice Cream, Desserts         ₹100           ₹50    3.5   \n",
       "2         Italian, Street Food, Fast Food         ₹150           ₹50    3.6   \n",
       "3          Mughlai, North Indian, Chinese         ₹250           ₹99    3.7   \n",
       "4                         Cafe, Beverages         ₹200           ₹99    3.2   \n",
       "\n",
       "  Votes Reviews Delivery_Time  Average_Cost_Cleaned  Minimum_Order_Cleaned  \n",
       "0    12       4    30 minutes                   200                     50  \n",
       "1    11       4    30 minutes                   100                     50  \n",
       "2    99      30    65 minutes                   150                     50  \n",
       "3   176      95    30 minutes                   250                     99  \n",
       "4   521     235    65 minutes                   200                     99  "
      ]
     },
     "execution_count": 35,
     "metadata": {},
     "output_type": "execute_result"
    }
   ],
   "source": [
    "train.head()"
   ]
  },
  {
   "cell_type": "code",
   "execution_count": 36,
   "id": "1dc51c06",
   "metadata": {},
   "outputs": [],
   "source": [
    "#A function to find the maximun number of features in a single cell\n",
    "def max_features_in_single_row(train, test, delimiter):\n",
    "  max_info = 0 \n",
    "  item_lis = list(train.append(test))\n",
    "  for i in item_lis:\n",
    "    if len(i.split(\"{}\".format(delimiter))) > max_info:\n",
    "      max_info = len(i.split(\"{}\".format(delimiter)))\n",
    "  print(\"\\n\",\"-\"*35)    \n",
    "  print(\"Max_Features in One Observation = \", max_info)\n",
    "  return max_info"
   ]
  },
  {
   "cell_type": "code",
   "execution_count": 37,
   "id": "daaab3a2",
   "metadata": {},
   "outputs": [],
   "source": [
    "#This function splits a column in to n features where n is the maximum number of features in a single cell\n",
    "def feature_splitter(feat, name, delimiter, max_info):\n",
    "  item_lis = list(feat)\n",
    "  extracted_features = {}\n",
    "\n",
    "  for i in range(max_info):\n",
    "    extracted_features['{}_Feature_{}'.format(name, i+1)] = []\n",
    "  \n",
    "  print(\"-\"*35)\n",
    "  print(\"Features Dictionary : \", extracted_features)\n",
    "\n",
    "  for i in tqdm(range(len(item_lis))):\n",
    "    for j in range(max_info):  \n",
    "      try:\n",
    "        extracted_features['{}_Feature_{}'.format(name,j+1)].append(item_lis[i].split(\"{}\".format(delimiter))[j].lower().strip())\n",
    "      except: \n",
    "        extracted_features['{}_Feature_{}'.format(name, j+1)].append(np.nan)\n",
    "\n",
    "\n",
    "  return extracted_features"
   ]
  },
  {
   "cell_type": "code",
   "execution_count": 38,
   "id": "1ba64077",
   "metadata": {},
   "outputs": [
    {
     "name": "stderr",
     "output_type": "stream",
     "text": [
      "100%|████████████████████████████████████████████████████████████████████████| 11094/11094 [00:00<00:00, 155578.32it/s]\n",
      "100%|██████████████████████████████████████████████████████████████████████████| 2774/2774 [00:00<00:00, 115583.67it/s]"
     ]
    },
    {
     "name": "stdout",
     "output_type": "stream",
     "text": [
      "\n",
      " -----------------------------------\n",
      "Max_Features in One Observation =  4\n",
      "-----------------------------------\n",
      "Features Dictionary :  {'Location_Feature_1': [], 'Location_Feature_2': [], 'Location_Feature_3': [], 'Location_Feature_4': []}\n",
      "-----------------------------------\n",
      "Features Dictionary :  {'Location_Feature_1': [], 'Location_Feature_2': [], 'Location_Feature_3': [], 'Location_Feature_4': []}\n"
     ]
    },
    {
     "name": "stderr",
     "output_type": "stream",
     "text": [
      "\n"
     ]
    }
   ],
   "source": [
    "#Splitting Location\n",
    "loc_max = max_features_in_single_row(test['Location'],train['Location'], ',')\n",
    "train_Location_splits = feature_splitter(train['Location'], 'Location', ',', loc_max)\n",
    "test_Location_splits = feature_splitter(test['Location'], 'Location', ',', loc_max)\n"
   ]
  },
  {
   "cell_type": "code",
   "execution_count": 39,
   "id": "a8a81382",
   "metadata": {},
   "outputs": [
    {
     "name": "stderr",
     "output_type": "stream",
     "text": [
      "100%|█████████████████████████████████████████████████████████████████████████| 11094/11094 [00:00<00:00, 67683.23it/s]\n",
      "  0%|                                                                                         | 0/2774 [00:00<?, ?it/s]"
     ]
    },
    {
     "name": "stdout",
     "output_type": "stream",
     "text": [
      "\n",
      " -----------------------------------\n",
      "Max_Features in One Observation =  8\n",
      "-----------------------------------\n",
      "Features Dictionary :  {'Cuisines_Feature_1': [], 'Cuisines_Feature_2': [], 'Cuisines_Feature_3': [], 'Cuisines_Feature_4': [], 'Cuisines_Feature_5': [], 'Cuisines_Feature_6': [], 'Cuisines_Feature_7': [], 'Cuisines_Feature_8': []}\n",
      "-----------------------------------\n",
      "Features Dictionary :  {'Cuisines_Feature_1': [], 'Cuisines_Feature_2': [], 'Cuisines_Feature_3': [], 'Cuisines_Feature_4': [], 'Cuisines_Feature_5': [], 'Cuisines_Feature_6': [], 'Cuisines_Feature_7': [], 'Cuisines_Feature_8': []}\n"
     ]
    },
    {
     "name": "stderr",
     "output_type": "stream",
     "text": [
      "100%|███████████████████████████████████████████████████████████████████████████| 2774/2774 [00:00<00:00, 69341.39it/s]\n"
     ]
    }
   ],
   "source": [
    "#Splitting Cuisines\n",
    "cus_max = max_features_in_single_row(test['Cuisines'],train['Cuisines'], ',')\n",
    "train_Cuisines_splits = feature_splitter(train['Cuisines'], 'Cuisines', ',', cus_max)\n",
    "test_Cuisines_splits = feature_splitter(test['Cuisines'], 'Cuisines', ',', cus_max)"
   ]
  },
  {
   "cell_type": "code",
   "execution_count": 40,
   "id": "51642fad",
   "metadata": {},
   "outputs": [
    {
     "data": {
      "text/html": [
       "<div>\n",
       "<style scoped>\n",
       "    .dataframe tbody tr th:only-of-type {\n",
       "        vertical-align: middle;\n",
       "    }\n",
       "\n",
       "    .dataframe tbody tr th {\n",
       "        vertical-align: top;\n",
       "    }\n",
       "\n",
       "    .dataframe thead th {\n",
       "        text-align: right;\n",
       "    }\n",
       "</style>\n",
       "<table border=\"1\" class=\"dataframe\">\n",
       "  <thead>\n",
       "    <tr style=\"text-align: right;\">\n",
       "      <th></th>\n",
       "      <th>Restaurant</th>\n",
       "      <th>Location</th>\n",
       "      <th>Cuisines</th>\n",
       "      <th>Average_Cost</th>\n",
       "      <th>Minimum_Order</th>\n",
       "      <th>Rating</th>\n",
       "      <th>Votes</th>\n",
       "      <th>Reviews</th>\n",
       "      <th>Delivery_Time</th>\n",
       "      <th>Average_Cost_Cleaned</th>\n",
       "      <th>Minimum_Order_Cleaned</th>\n",
       "    </tr>\n",
       "  </thead>\n",
       "  <tbody>\n",
       "    <tr>\n",
       "      <th>count</th>\n",
       "      <td>11094</td>\n",
       "      <td>11094</td>\n",
       "      <td>11094</td>\n",
       "      <td>11094</td>\n",
       "      <td>11094</td>\n",
       "      <td>11094</td>\n",
       "      <td>11094</td>\n",
       "      <td>11094</td>\n",
       "      <td>11094</td>\n",
       "      <td>11094.000000</td>\n",
       "      <td>11094.000000</td>\n",
       "    </tr>\n",
       "    <tr>\n",
       "      <th>unique</th>\n",
       "      <td>7480</td>\n",
       "      <td>35</td>\n",
       "      <td>2179</td>\n",
       "      <td>26</td>\n",
       "      <td>18</td>\n",
       "      <td>33</td>\n",
       "      <td>1103</td>\n",
       "      <td>761</td>\n",
       "      <td>7</td>\n",
       "      <td>NaN</td>\n",
       "      <td>NaN</td>\n",
       "    </tr>\n",
       "    <tr>\n",
       "      <th>top</th>\n",
       "      <td>ID_7184</td>\n",
       "      <td>Mico Layout, Stage 2, BTM Layout,Bangalore</td>\n",
       "      <td>North Indian</td>\n",
       "      <td>₹200</td>\n",
       "      <td>₹50</td>\n",
       "      <td>-</td>\n",
       "      <td>-</td>\n",
       "      <td>-</td>\n",
       "      <td>30 minutes</td>\n",
       "      <td>NaN</td>\n",
       "      <td>NaN</td>\n",
       "    </tr>\n",
       "    <tr>\n",
       "      <th>freq</th>\n",
       "      <td>22</td>\n",
       "      <td>947</td>\n",
       "      <td>850</td>\n",
       "      <td>3241</td>\n",
       "      <td>10118</td>\n",
       "      <td>1191</td>\n",
       "      <td>2074</td>\n",
       "      <td>2312</td>\n",
       "      <td>7406</td>\n",
       "      <td>NaN</td>\n",
       "      <td>NaN</td>\n",
       "    </tr>\n",
       "    <tr>\n",
       "      <th>mean</th>\n",
       "      <td>NaN</td>\n",
       "      <td>NaN</td>\n",
       "      <td>NaN</td>\n",
       "      <td>NaN</td>\n",
       "      <td>NaN</td>\n",
       "      <td>NaN</td>\n",
       "      <td>NaN</td>\n",
       "      <td>NaN</td>\n",
       "      <td>NaN</td>\n",
       "      <td>202.708671</td>\n",
       "      <td>53.344511</td>\n",
       "    </tr>\n",
       "    <tr>\n",
       "      <th>std</th>\n",
       "      <td>NaN</td>\n",
       "      <td>NaN</td>\n",
       "      <td>NaN</td>\n",
       "      <td>NaN</td>\n",
       "      <td>NaN</td>\n",
       "      <td>NaN</td>\n",
       "      <td>NaN</td>\n",
       "      <td>NaN</td>\n",
       "      <td>NaN</td>\n",
       "      <td>129.833261</td>\n",
       "      <td>18.551245</td>\n",
       "    </tr>\n",
       "    <tr>\n",
       "      <th>min</th>\n",
       "      <td>NaN</td>\n",
       "      <td>NaN</td>\n",
       "      <td>NaN</td>\n",
       "      <td>NaN</td>\n",
       "      <td>NaN</td>\n",
       "      <td>NaN</td>\n",
       "      <td>NaN</td>\n",
       "      <td>NaN</td>\n",
       "      <td>NaN</td>\n",
       "      <td>50.000000</td>\n",
       "      <td>0.000000</td>\n",
       "    </tr>\n",
       "    <tr>\n",
       "      <th>25%</th>\n",
       "      <td>NaN</td>\n",
       "      <td>NaN</td>\n",
       "      <td>NaN</td>\n",
       "      <td>NaN</td>\n",
       "      <td>NaN</td>\n",
       "      <td>NaN</td>\n",
       "      <td>NaN</td>\n",
       "      <td>NaN</td>\n",
       "      <td>NaN</td>\n",
       "      <td>100.000000</td>\n",
       "      <td>50.000000</td>\n",
       "    </tr>\n",
       "    <tr>\n",
       "      <th>50%</th>\n",
       "      <td>NaN</td>\n",
       "      <td>NaN</td>\n",
       "      <td>NaN</td>\n",
       "      <td>NaN</td>\n",
       "      <td>NaN</td>\n",
       "      <td>NaN</td>\n",
       "      <td>NaN</td>\n",
       "      <td>NaN</td>\n",
       "      <td>NaN</td>\n",
       "      <td>200.000000</td>\n",
       "      <td>50.000000</td>\n",
       "    </tr>\n",
       "    <tr>\n",
       "      <th>75%</th>\n",
       "      <td>NaN</td>\n",
       "      <td>NaN</td>\n",
       "      <td>NaN</td>\n",
       "      <td>NaN</td>\n",
       "      <td>NaN</td>\n",
       "      <td>NaN</td>\n",
       "      <td>NaN</td>\n",
       "      <td>NaN</td>\n",
       "      <td>NaN</td>\n",
       "      <td>200.000000</td>\n",
       "      <td>50.000000</td>\n",
       "    </tr>\n",
       "    <tr>\n",
       "      <th>max</th>\n",
       "      <td>NaN</td>\n",
       "      <td>NaN</td>\n",
       "      <td>NaN</td>\n",
       "      <td>NaN</td>\n",
       "      <td>NaN</td>\n",
       "      <td>NaN</td>\n",
       "      <td>NaN</td>\n",
       "      <td>NaN</td>\n",
       "      <td>NaN</td>\n",
       "      <td>2050.000000</td>\n",
       "      <td>500.000000</td>\n",
       "    </tr>\n",
       "  </tbody>\n",
       "</table>\n",
       "</div>"
      ],
      "text/plain": [
       "       Restaurant                                    Location      Cuisines  \\\n",
       "count       11094                                       11094         11094   \n",
       "unique       7480                                          35          2179   \n",
       "top       ID_7184  Mico Layout, Stage 2, BTM Layout,Bangalore  North Indian   \n",
       "freq           22                                         947           850   \n",
       "mean          NaN                                         NaN           NaN   \n",
       "std           NaN                                         NaN           NaN   \n",
       "min           NaN                                         NaN           NaN   \n",
       "25%           NaN                                         NaN           NaN   \n",
       "50%           NaN                                         NaN           NaN   \n",
       "75%           NaN                                         NaN           NaN   \n",
       "max           NaN                                         NaN           NaN   \n",
       "\n",
       "       Average_Cost Minimum_Order Rating  Votes Reviews Delivery_Time  \\\n",
       "count         11094         11094  11094  11094   11094         11094   \n",
       "unique           26            18     33   1103     761             7   \n",
       "top            ₹200           ₹50      -      -       -    30 minutes   \n",
       "freq           3241         10118   1191   2074    2312          7406   \n",
       "mean            NaN           NaN    NaN    NaN     NaN           NaN   \n",
       "std             NaN           NaN    NaN    NaN     NaN           NaN   \n",
       "min             NaN           NaN    NaN    NaN     NaN           NaN   \n",
       "25%             NaN           NaN    NaN    NaN     NaN           NaN   \n",
       "50%             NaN           NaN    NaN    NaN     NaN           NaN   \n",
       "75%             NaN           NaN    NaN    NaN     NaN           NaN   \n",
       "max             NaN           NaN    NaN    NaN     NaN           NaN   \n",
       "\n",
       "        Average_Cost_Cleaned  Minimum_Order_Cleaned  \n",
       "count           11094.000000           11094.000000  \n",
       "unique                   NaN                    NaN  \n",
       "top                      NaN                    NaN  \n",
       "freq                     NaN                    NaN  \n",
       "mean              202.708671              53.344511  \n",
       "std               129.833261              18.551245  \n",
       "min                50.000000               0.000000  \n",
       "25%               100.000000              50.000000  \n",
       "50%               200.000000              50.000000  \n",
       "75%               200.000000              50.000000  \n",
       "max              2050.000000             500.000000  "
      ]
     },
     "execution_count": 40,
     "metadata": {},
     "output_type": "execute_result"
    }
   ],
   "source": [
    "train.describe(include = 'all')"
   ]
  },
  {
   "cell_type": "code",
   "execution_count": 41,
   "id": "3c8fb733",
   "metadata": {},
   "outputs": [],
   "source": [
    "#A function to find all the non numeric values\n",
    "def non_numerals(series):\n",
    "  non_numerals = []\n",
    "  for i in series.unique():\n",
    "    try :\n",
    "      i = float(i)\n",
    "    except:\n",
    "      non_numerals.append(i)\n",
    "  return non_numerals"
   ]
  },
  {
   "cell_type": "code",
   "execution_count": 45,
   "id": "ac63f5c2",
   "metadata": {},
   "outputs": [],
   "source": [
    "# A function to replace the non-numeric values\n",
    "def replace_nn_with(series, type_, fill_with = None, method = 'mean'):\n",
    "\n",
    "  nn = non_numerals(series)\n",
    "  print('-'*30)\n",
    "  print('-'*30)\n",
    "  print(\"Non Numerals in column \",series.name,\" : \",nn)\n",
    "\n",
    "  series = series.replace(nn, np.nan, inplace = False)\n",
    "  nulls = series.isnull().sum()\n",
    "  if fill_with:\n",
    "    series.fillna(fill_with, inplace = True)\n",
    "    print(\"Filling Non Numerals with {}\".format(fill_with))\n",
    "  \n",
    "  else:\n",
    "    series = series.replace(nn, np.nan, inplace = False)\n",
    "\n",
    "    if method == 'mean' :\n",
    "      rep = series.astype(float).mean()\n",
    "      print(\"Filling Non Numerals with MEAN = \", rep)\n",
    "\n",
    "    elif method == 'median' :\n",
    "      rep = series.astype(float).median()\n",
    "      print(\"Filling Non Numerals with MEDIAN = \", rep)\n",
    "    elif method == 'min' :\n",
    "      rep = series.astype(float).min()\n",
    "      print(\"Filling Non Numerals with MINIMUM = \", rep)\n",
    "\n",
    "    else:\n",
    "      print('Please pass a valid method as a string -- (\"mean\" or \"median\" or \"min\")')\n",
    "      return 0\n",
    "\n",
    "    series.fillna(rep, inplace = True)\n",
    "    \n",
    "  try:\n",
    "    series = series.astype(type_)\n",
    "    print(nulls, \": observations replaced\")\n",
    "    return series\n",
    "  except:\n",
    "    # Since type conversion of a string containting decimals to int is not possible, it is first converted to float\n",
    "    series =  series.astype(float)\n",
    "    print(nulls, \": observations replaced\")\n",
    "    series =  series.astype(type_)\n",
    "    return series"
   ]
  },
  {
   "cell_type": "code",
   "execution_count": 46,
   "id": "3915c012",
   "metadata": {},
   "outputs": [
    {
     "data": {
      "text/html": [
       "<div>\n",
       "<style scoped>\n",
       "    .dataframe tbody tr th:only-of-type {\n",
       "        vertical-align: middle;\n",
       "    }\n",
       "\n",
       "    .dataframe tbody tr th {\n",
       "        vertical-align: top;\n",
       "    }\n",
       "\n",
       "    .dataframe thead th {\n",
       "        text-align: right;\n",
       "    }\n",
       "</style>\n",
       "<table border=\"1\" class=\"dataframe\">\n",
       "  <thead>\n",
       "    <tr style=\"text-align: right;\">\n",
       "      <th></th>\n",
       "      <th>Restaurant</th>\n",
       "      <th>Location</th>\n",
       "      <th>Cuisines</th>\n",
       "      <th>Average_Cost</th>\n",
       "      <th>Minimum_Order</th>\n",
       "      <th>Rating</th>\n",
       "      <th>Votes</th>\n",
       "      <th>Reviews</th>\n",
       "      <th>Delivery_Time</th>\n",
       "      <th>Average_Cost_Cleaned</th>\n",
       "      <th>Minimum_Order_Cleaned</th>\n",
       "    </tr>\n",
       "  </thead>\n",
       "  <tbody>\n",
       "    <tr>\n",
       "      <th>0</th>\n",
       "      <td>ID_6321</td>\n",
       "      <td>FTI College, Law College Road, Pune</td>\n",
       "      <td>Fast Food, Rolls, Burger, Salad, Wraps</td>\n",
       "      <td>₹200</td>\n",
       "      <td>₹50</td>\n",
       "      <td>3.5</td>\n",
       "      <td>12</td>\n",
       "      <td>4</td>\n",
       "      <td>30 minutes</td>\n",
       "      <td>200</td>\n",
       "      <td>50</td>\n",
       "    </tr>\n",
       "    <tr>\n",
       "      <th>1</th>\n",
       "      <td>ID_2882</td>\n",
       "      <td>Sector 3, Marathalli</td>\n",
       "      <td>Ice Cream, Desserts</td>\n",
       "      <td>₹100</td>\n",
       "      <td>₹50</td>\n",
       "      <td>3.5</td>\n",
       "      <td>11</td>\n",
       "      <td>4</td>\n",
       "      <td>30 minutes</td>\n",
       "      <td>100</td>\n",
       "      <td>50</td>\n",
       "    </tr>\n",
       "    <tr>\n",
       "      <th>2</th>\n",
       "      <td>ID_1595</td>\n",
       "      <td>Mumbai Central</td>\n",
       "      <td>Italian, Street Food, Fast Food</td>\n",
       "      <td>₹150</td>\n",
       "      <td>₹50</td>\n",
       "      <td>3.6</td>\n",
       "      <td>99</td>\n",
       "      <td>30</td>\n",
       "      <td>65 minutes</td>\n",
       "      <td>150</td>\n",
       "      <td>50</td>\n",
       "    </tr>\n",
       "    <tr>\n",
       "      <th>3</th>\n",
       "      <td>ID_5929</td>\n",
       "      <td>Sector 1, Noida</td>\n",
       "      <td>Mughlai, North Indian, Chinese</td>\n",
       "      <td>₹250</td>\n",
       "      <td>₹99</td>\n",
       "      <td>3.7</td>\n",
       "      <td>176</td>\n",
       "      <td>95</td>\n",
       "      <td>30 minutes</td>\n",
       "      <td>250</td>\n",
       "      <td>99</td>\n",
       "    </tr>\n",
       "    <tr>\n",
       "      <th>4</th>\n",
       "      <td>ID_6123</td>\n",
       "      <td>Rmz Centennial, I Gate, Whitefield</td>\n",
       "      <td>Cafe, Beverages</td>\n",
       "      <td>₹200</td>\n",
       "      <td>₹99</td>\n",
       "      <td>3.2</td>\n",
       "      <td>521</td>\n",
       "      <td>235</td>\n",
       "      <td>65 minutes</td>\n",
       "      <td>200</td>\n",
       "      <td>99</td>\n",
       "    </tr>\n",
       "  </tbody>\n",
       "</table>\n",
       "</div>"
      ],
      "text/plain": [
       "  Restaurant                             Location  \\\n",
       "0    ID_6321  FTI College, Law College Road, Pune   \n",
       "1    ID_2882                 Sector 3, Marathalli   \n",
       "2    ID_1595                       Mumbai Central   \n",
       "3    ID_5929                      Sector 1, Noida   \n",
       "4    ID_6123   Rmz Centennial, I Gate, Whitefield   \n",
       "\n",
       "                                 Cuisines Average_Cost Minimum_Order Rating  \\\n",
       "0  Fast Food, Rolls, Burger, Salad, Wraps         ₹200           ₹50    3.5   \n",
       "1                     Ice Cream, Desserts         ₹100           ₹50    3.5   \n",
       "2         Italian, Street Food, Fast Food         ₹150           ₹50    3.6   \n",
       "3          Mughlai, North Indian, Chinese         ₹250           ₹99    3.7   \n",
       "4                         Cafe, Beverages         ₹200           ₹99    3.2   \n",
       "\n",
       "  Votes Reviews Delivery_Time  Average_Cost_Cleaned  Minimum_Order_Cleaned  \n",
       "0    12       4    30 minutes                   200                     50  \n",
       "1    11       4    30 minutes                   100                     50  \n",
       "2    99      30    65 minutes                   150                     50  \n",
       "3   176      95    30 minutes                   250                     99  \n",
       "4   521     235    65 minutes                   200                     99  "
      ]
     },
     "execution_count": 46,
     "metadata": {},
     "output_type": "execute_result"
    }
   ],
   "source": [
    "train.head()"
   ]
  },
  {
   "cell_type": "code",
   "execution_count": 47,
   "id": "443a8224",
   "metadata": {},
   "outputs": [
    {
     "name": "stdout",
     "output_type": "stream",
     "text": [
      "------------------------------\n",
      "------------------------------\n",
      "Non Numerals in column  Rating  :  ['-', 'NEW', 'Opening Soon', 'Temporarily Closed']\n",
      "Filling Non Numerals with MEAN =  3.6134596429744668\n",
      "1963 : observations replaced\n"
     ]
    }
   ],
   "source": [
    "train['Rating_Cleaned'] = replace_nn_with(train['Rating'],float, method = 'mean')"
   ]
  },
  {
   "cell_type": "code",
   "execution_count": 48,
   "id": "fc6b8432",
   "metadata": {},
   "outputs": [
    {
     "name": "stdout",
     "output_type": "stream",
     "text": [
      "------------------------------\n",
      "------------------------------\n",
      "Non Numerals in column  Rating  :  ['NEW', '-', 'Opening Soon']\n",
      "Filling Non Numerals with 3.6134596429744668\n",
      "507 : observations replaced\n"
     ]
    }
   ],
   "source": [
    "test['Rating_Cleaned'] = replace_nn_with(test['Rating'],float, fill_with = 3.6134596429744668)"
   ]
  },
  {
   "cell_type": "code",
   "execution_count": 49,
   "id": "ea0824d9",
   "metadata": {},
   "outputs": [
    {
     "name": "stdout",
     "output_type": "stream",
     "text": [
      "------------------------------\n",
      "------------------------------\n",
      "Non Numerals in column  Votes  :  ['-']\n",
      "Filling Non Numerals with MEAN =  244.54445676274943\n",
      "2074 : observations replaced\n"
     ]
    }
   ],
   "source": [
    "train['Votes_Cleaned'] = replace_nn_with(train['Votes'],int,method =  'mean')"
   ]
  },
  {
   "cell_type": "code",
   "execution_count": 50,
   "id": "a9548d8f",
   "metadata": {},
   "outputs": [
    {
     "name": "stdout",
     "output_type": "stream",
     "text": [
      "------------------------------\n",
      "------------------------------\n",
      "Non Numerals in column  Votes  :  ['-']\n",
      "Filling Non Numerals with 244.54445676274943\n",
      "542 : observations replaced\n"
     ]
    }
   ],
   "source": [
    "test['Votes_Cleaned'] = replace_nn_with(test['Votes'],int,fill_with = 244.54445676274943)"
   ]
  },
  {
   "cell_type": "code",
   "execution_count": 51,
   "id": "1507e120",
   "metadata": {},
   "outputs": [
    {
     "name": "stdout",
     "output_type": "stream",
     "text": [
      "------------------------------\n",
      "------------------------------\n",
      "Non Numerals in column  Reviews  :  ['-']\n",
      "Filling Non Numerals with MEAN =  123.24789341835573\n",
      "2312 : observations replaced\n"
     ]
    }
   ],
   "source": [
    "train['Reviews_Cleaned'] = replace_nn_with(train['Reviews'],int, method =  'mean')"
   ]
  },
  {
   "cell_type": "code",
   "execution_count": 52,
   "id": "1af2926b",
   "metadata": {},
   "outputs": [
    {
     "name": "stdout",
     "output_type": "stream",
     "text": [
      "------------------------------\n",
      "------------------------------\n",
      "Non Numerals in column  Reviews  :  ['-']\n",
      "Filling Non Numerals with 123.247893\n",
      "593 : observations replaced\n"
     ]
    }
   ],
   "source": [
    "test['Reviews_Cleaned'] = replace_nn_with(test['Reviews'],int, method =  'mean',fill_with = 123.247893 )"
   ]
  },
  {
   "cell_type": "code",
   "execution_count": 53,
   "id": "17950a38",
   "metadata": {},
   "outputs": [
    {
     "data": {
      "text/html": [
       "<div>\n",
       "<style scoped>\n",
       "    .dataframe tbody tr th:only-of-type {\n",
       "        vertical-align: middle;\n",
       "    }\n",
       "\n",
       "    .dataframe tbody tr th {\n",
       "        vertical-align: top;\n",
       "    }\n",
       "\n",
       "    .dataframe thead th {\n",
       "        text-align: right;\n",
       "    }\n",
       "</style>\n",
       "<table border=\"1\" class=\"dataframe\">\n",
       "  <thead>\n",
       "    <tr style=\"text-align: right;\">\n",
       "      <th></th>\n",
       "      <th>Restaurant</th>\n",
       "      <th>Location</th>\n",
       "      <th>Cuisines</th>\n",
       "      <th>Average_Cost</th>\n",
       "      <th>Minimum_Order</th>\n",
       "      <th>Rating</th>\n",
       "      <th>Votes</th>\n",
       "      <th>Reviews</th>\n",
       "      <th>Delivery_Time</th>\n",
       "      <th>Average_Cost_Cleaned</th>\n",
       "      <th>Minimum_Order_Cleaned</th>\n",
       "      <th>Rating_Cleaned</th>\n",
       "      <th>Votes_Cleaned</th>\n",
       "      <th>Reviews_Cleaned</th>\n",
       "    </tr>\n",
       "  </thead>\n",
       "  <tbody>\n",
       "    <tr>\n",
       "      <th>0</th>\n",
       "      <td>ID_6321</td>\n",
       "      <td>FTI College, Law College Road, Pune</td>\n",
       "      <td>Fast Food, Rolls, Burger, Salad, Wraps</td>\n",
       "      <td>₹200</td>\n",
       "      <td>₹50</td>\n",
       "      <td>3.5</td>\n",
       "      <td>12</td>\n",
       "      <td>4</td>\n",
       "      <td>30 minutes</td>\n",
       "      <td>200</td>\n",
       "      <td>50</td>\n",
       "      <td>3.5</td>\n",
       "      <td>12</td>\n",
       "      <td>4</td>\n",
       "    </tr>\n",
       "    <tr>\n",
       "      <th>1</th>\n",
       "      <td>ID_2882</td>\n",
       "      <td>Sector 3, Marathalli</td>\n",
       "      <td>Ice Cream, Desserts</td>\n",
       "      <td>₹100</td>\n",
       "      <td>₹50</td>\n",
       "      <td>3.5</td>\n",
       "      <td>11</td>\n",
       "      <td>4</td>\n",
       "      <td>30 minutes</td>\n",
       "      <td>100</td>\n",
       "      <td>50</td>\n",
       "      <td>3.5</td>\n",
       "      <td>11</td>\n",
       "      <td>4</td>\n",
       "    </tr>\n",
       "    <tr>\n",
       "      <th>2</th>\n",
       "      <td>ID_1595</td>\n",
       "      <td>Mumbai Central</td>\n",
       "      <td>Italian, Street Food, Fast Food</td>\n",
       "      <td>₹150</td>\n",
       "      <td>₹50</td>\n",
       "      <td>3.6</td>\n",
       "      <td>99</td>\n",
       "      <td>30</td>\n",
       "      <td>65 minutes</td>\n",
       "      <td>150</td>\n",
       "      <td>50</td>\n",
       "      <td>3.6</td>\n",
       "      <td>99</td>\n",
       "      <td>30</td>\n",
       "    </tr>\n",
       "    <tr>\n",
       "      <th>3</th>\n",
       "      <td>ID_5929</td>\n",
       "      <td>Sector 1, Noida</td>\n",
       "      <td>Mughlai, North Indian, Chinese</td>\n",
       "      <td>₹250</td>\n",
       "      <td>₹99</td>\n",
       "      <td>3.7</td>\n",
       "      <td>176</td>\n",
       "      <td>95</td>\n",
       "      <td>30 minutes</td>\n",
       "      <td>250</td>\n",
       "      <td>99</td>\n",
       "      <td>3.7</td>\n",
       "      <td>176</td>\n",
       "      <td>95</td>\n",
       "    </tr>\n",
       "    <tr>\n",
       "      <th>4</th>\n",
       "      <td>ID_6123</td>\n",
       "      <td>Rmz Centennial, I Gate, Whitefield</td>\n",
       "      <td>Cafe, Beverages</td>\n",
       "      <td>₹200</td>\n",
       "      <td>₹99</td>\n",
       "      <td>3.2</td>\n",
       "      <td>521</td>\n",
       "      <td>235</td>\n",
       "      <td>65 minutes</td>\n",
       "      <td>200</td>\n",
       "      <td>99</td>\n",
       "      <td>3.2</td>\n",
       "      <td>521</td>\n",
       "      <td>235</td>\n",
       "    </tr>\n",
       "  </tbody>\n",
       "</table>\n",
       "</div>"
      ],
      "text/plain": [
       "  Restaurant                             Location  \\\n",
       "0    ID_6321  FTI College, Law College Road, Pune   \n",
       "1    ID_2882                 Sector 3, Marathalli   \n",
       "2    ID_1595                       Mumbai Central   \n",
       "3    ID_5929                      Sector 1, Noida   \n",
       "4    ID_6123   Rmz Centennial, I Gate, Whitefield   \n",
       "\n",
       "                                 Cuisines Average_Cost Minimum_Order Rating  \\\n",
       "0  Fast Food, Rolls, Burger, Salad, Wraps         ₹200           ₹50    3.5   \n",
       "1                     Ice Cream, Desserts         ₹100           ₹50    3.5   \n",
       "2         Italian, Street Food, Fast Food         ₹150           ₹50    3.6   \n",
       "3          Mughlai, North Indian, Chinese         ₹250           ₹99    3.7   \n",
       "4                         Cafe, Beverages         ₹200           ₹99    3.2   \n",
       "\n",
       "  Votes Reviews Delivery_Time  Average_Cost_Cleaned  Minimum_Order_Cleaned  \\\n",
       "0    12       4    30 minutes                   200                     50   \n",
       "1    11       4    30 minutes                   100                     50   \n",
       "2    99      30    65 minutes                   150                     50   \n",
       "3   176      95    30 minutes                   250                     99   \n",
       "4   521     235    65 minutes                   200                     99   \n",
       "\n",
       "   Rating_Cleaned  Votes_Cleaned  Reviews_Cleaned  \n",
       "0             3.5             12                4  \n",
       "1             3.5             11                4  \n",
       "2             3.6             99               30  \n",
       "3             3.7            176               95  \n",
       "4             3.2            521              235  "
      ]
     },
     "execution_count": 53,
     "metadata": {},
     "output_type": "execute_result"
    }
   ],
   "source": [
    "train.head(5)"
   ]
  },
  {
   "cell_type": "code",
   "execution_count": 54,
   "id": "e8be1c18",
   "metadata": {},
   "outputs": [
    {
     "data": {
      "text/plain": [
       "Index(['Restaurant', 'Location', 'Cuisines', 'Average_Cost', 'Minimum_Order',\n",
       "       'Rating', 'Votes', 'Reviews', 'Delivery_Time', 'Average_Cost_Cleaned',\n",
       "       'Minimum_Order_Cleaned', 'Rating_Cleaned', 'Votes_Cleaned',\n",
       "       'Reviews_Cleaned'],\n",
       "      dtype='object')"
      ]
     },
     "execution_count": 54,
     "metadata": {},
     "output_type": "execute_result"
    }
   ],
   "source": [
    "train.columns"
   ]
  },
  {
   "cell_type": "code",
   "execution_count": 55,
   "id": "42903986",
   "metadata": {},
   "outputs": [],
   "source": [
    "cols = ['Restaurant',  'Average_Cost_Cleaned',\n",
    "       'Minimum_Order_Cleaned', 'Rating_Cleaned', 'Votes_Cleaned',\n",
    "       'Reviews_Cleaned','Delivery_Time' ]"
   ]
  },
  {
   "cell_type": "code",
   "execution_count": 56,
   "id": "c92b1383",
   "metadata": {},
   "outputs": [],
   "source": [
    "train_sample = train[cols]\n",
    "test_sample = test[cols[:-1]]"
   ]
  },
  {
   "cell_type": "code",
   "execution_count": 57,
   "id": "f2416fc8",
   "metadata": {},
   "outputs": [],
   "source": [
    "train_sample = pd.concat([pd.DataFrame(train_Location_splits), pd.DataFrame(train_Cuisines_splits),train_sample],sort=False,axis = 1)\n",
    "test_sample = pd.concat([pd.DataFrame(test_Location_splits), pd.DataFrame(test_Cuisines_splits), test_sample],sort=False,axis = 1)"
   ]
  },
  {
   "cell_type": "code",
   "execution_count": 58,
   "id": "4bd86db3",
   "metadata": {},
   "outputs": [
    {
     "data": {
      "text/plain": [
       "<seaborn.axisgrid.PairGrid at 0x2c27ea2cdf0>"
      ]
     },
     "execution_count": 58,
     "metadata": {},
     "output_type": "execute_result"
    },
    {
     "data": {
      "image/png": "[encoded data removed]",
      "text/plain": [
       "<Figure size 900x900 with 30 Axes>"
      ]
     },
     "metadata": {
      "needs_background": "light"
     },
     "output_type": "display_data"
    }
   ],
   "source": [
    "#lets take a look at the relation between the numeric features in the dataset\n",
    "import seaborn\n",
    "seaborn.pairplot(train_sample)"
   ]
  },
  {
   "cell_type": "code",
   "execution_count": 59,
   "id": "28058313",
   "metadata": {},
   "outputs": [
    {
     "data": {
      "text/plain": [
       "<seaborn.axisgrid.PairGrid at 0x2c202d77580>"
      ]
     },
     "execution_count": 59,
     "metadata": {},
     "output_type": "execute_result"
    },
    {
     "data": {
      "image/png": "[encoded data removed]",
      "text/plain": [
       "<Figure size 900x900 with 30 Axes>"
      ]
     },
     "metadata": {
      "needs_background": "light"
     },
     "output_type": "display_data"
    }
   ],
   "source": [
    "seaborn.pairplot(test_sample)"
   ]
  },
  {
   "cell_type": "markdown",
   "id": "740db33a",
   "metadata": {},
   "source": [
    "### Data Preprocessing"
   ]
  },
  {
   "cell_type": "code",
   "execution_count": 60,
   "id": "87eee223",
   "metadata": {},
   "outputs": [
    {
     "data": {
      "text/plain": [
       "Location_Feature_1           0\n",
       "Location_Feature_2        1942\n",
       "Location_Feature_3        6364\n",
       "Location_Feature_4       10068\n",
       "Cuisines_Feature_1           0\n",
       "Cuisines_Feature_2        3012\n",
       "Cuisines_Feature_3        6931\n",
       "Cuisines_Feature_4        9393\n",
       "Cuisines_Feature_5       10449\n",
       "Cuisines_Feature_6       10854\n",
       "Cuisines_Feature_7       10978\n",
       "Cuisines_Feature_8       11046\n",
       "Restaurant                   0\n",
       "Average_Cost_Cleaned         0\n",
       "Minimum_Order_Cleaned        0\n",
       "Rating_Cleaned               0\n",
       "Votes_Cleaned                0\n",
       "Reviews_Cleaned              0\n",
       "Delivery_Time                0\n",
       "dtype: int64"
      ]
     },
     "execution_count": 60,
     "metadata": {},
     "output_type": "execute_result"
    }
   ],
   "source": [
    "train_sample.isnull().sum()"
   ]
  },
  {
   "cell_type": "code",
   "execution_count": 61,
   "id": "1cf7314e",
   "metadata": {},
   "outputs": [],
   "source": [
    "train_sample.fillna('NAN', inplace = True)"
   ]
  },
  {
   "cell_type": "code",
   "execution_count": 62,
   "id": "3476e9d3",
   "metadata": {},
   "outputs": [
    {
     "data": {
      "text/plain": [
       "Location_Feature_1       0\n",
       "Location_Feature_2       0\n",
       "Location_Feature_3       0\n",
       "Location_Feature_4       0\n",
       "Cuisines_Feature_1       0\n",
       "Cuisines_Feature_2       0\n",
       "Cuisines_Feature_3       0\n",
       "Cuisines_Feature_4       0\n",
       "Cuisines_Feature_5       0\n",
       "Cuisines_Feature_6       0\n",
       "Cuisines_Feature_7       0\n",
       "Cuisines_Feature_8       0\n",
       "Restaurant               0\n",
       "Average_Cost_Cleaned     0\n",
       "Minimum_Order_Cleaned    0\n",
       "Rating_Cleaned           0\n",
       "Votes_Cleaned            0\n",
       "Reviews_Cleaned          0\n",
       "Delivery_Time            0\n",
       "dtype: int64"
      ]
     },
     "execution_count": 62,
     "metadata": {},
     "output_type": "execute_result"
    }
   ],
   "source": [
    "train_sample.isnull().sum()"
   ]
  },
  {
   "cell_type": "code",
   "execution_count": 63,
   "id": "4b5dbcb3",
   "metadata": {},
   "outputs": [],
   "source": [
    "test_sample.fillna('NAN', inplace = True)"
   ]
  },
  {
   "cell_type": "code",
   "execution_count": 64,
   "id": "d2066d02",
   "metadata": {},
   "outputs": [
    {
     "data": {
      "text/plain": [
       "Location_Feature_1       0\n",
       "Location_Feature_2       0\n",
       "Location_Feature_3       0\n",
       "Location_Feature_4       0\n",
       "Cuisines_Feature_1       0\n",
       "Cuisines_Feature_2       0\n",
       "Cuisines_Feature_3       0\n",
       "Cuisines_Feature_4       0\n",
       "Cuisines_Feature_5       0\n",
       "Cuisines_Feature_6       0\n",
       "Cuisines_Feature_7       0\n",
       "Cuisines_Feature_8       0\n",
       "Restaurant               0\n",
       "Average_Cost_Cleaned     0\n",
       "Minimum_Order_Cleaned    0\n",
       "Rating_Cleaned           0\n",
       "Votes_Cleaned            0\n",
       "Reviews_Cleaned          0\n",
       "Delivery_Time            0\n",
       "dtype: int64"
      ]
     },
     "execution_count": 64,
     "metadata": {},
     "output_type": "execute_result"
    }
   ],
   "source": [
    "train_sample.isnull().sum()"
   ]
  },
  {
   "cell_type": "markdown",
   "id": "8b22a29d",
   "metadata": {},
   "source": [
    "### Encoding Categories"
   ]
  },
  {
   "cell_type": "code",
   "execution_count": 65,
   "id": "67b8e8ab",
   "metadata": {},
   "outputs": [],
   "source": [
    "temp1 = []\n",
    "for i in train_Cuisines_splits.keys():\n",
    "  for j in train_Cuisines_splits.get(i):\n",
    "    temp1.append(j)\n",
    "\n",
    "temp2 = []\n",
    "for i in test_Cuisines_splits.keys():\n",
    "  for j in test_Cuisines_splits.get(i):\n",
    "    temp2.append(j)\n",
    "\n",
    "temp1.extend(temp2)\n",
    "\n",
    "unique_cuisines = list(pd.Series(temp1).unique())\n",
    "unique_cuisines.append('NAN')"
   ]
  },
  {
   "cell_type": "code",
   "execution_count": 66,
   "id": "cc5dcdcf",
   "metadata": {},
   "outputs": [
    {
     "data": {
      "text/plain": [
       "103"
      ]
     },
     "execution_count": 66,
     "metadata": {},
     "output_type": "execute_result"
    }
   ],
   "source": [
    "len(unique_cuisines)"
   ]
  },
  {
   "cell_type": "code",
   "execution_count": 67,
   "id": "d55c538a",
   "metadata": {},
   "outputs": [],
   "source": [
    "temp1 = []\n",
    "for i in train_Location_splits.keys():\n",
    "  for j in train_Location_splits.get(i):\n",
    "    temp1.append(j)\n",
    "\n",
    "temp2 = []\n",
    "for i in test_Location_splits.keys():\n",
    "  for j in test_Location_splits.get(i):\n",
    "    temp2.append(j)\n",
    "\n",
    "temp1.extend(temp2)\n",
    "\n",
    "unique_locations = list(pd.Series(temp1).unique())\n",
    "unique_locations.append('NAN')"
   ]
  },
  {
   "cell_type": "code",
   "execution_count": 68,
   "id": "c4e0ce97",
   "metadata": {},
   "outputs": [
    {
     "data": {
      "text/plain": [
       "67"
      ]
     },
     "execution_count": 68,
     "metadata": {},
     "output_type": "execute_result"
    }
   ],
   "source": [
    "len(unique_locations)"
   ]
  },
  {
   "cell_type": "code",
   "execution_count": 69,
   "id": "f8604445",
   "metadata": {},
   "outputs": [],
   "source": [
    "#encoding the categorical Features\n",
    "from sklearn.preprocessing import LabelEncoder\n",
    "le_c = LabelEncoder().fit(unique_cuisines)\n",
    "le_l = LabelEncoder().fit(unique_locations)"
   ]
  },
  {
   "cell_type": "code",
   "execution_count": 70,
   "id": "f9c2a650",
   "metadata": {},
   "outputs": [],
   "source": [
    "for i in train_Location_splits.keys():\n",
    "  train_sample[i] = le_l.transform(train_sample[i])"
   ]
  },
  {
   "cell_type": "code",
   "execution_count": 71,
   "id": "71812441",
   "metadata": {},
   "outputs": [],
   "source": [
    "for i in train_Cuisines_splits.keys():\n",
    "  train_sample[i] = le_c.transform(train_sample[i])"
   ]
  },
  {
   "cell_type": "code",
   "execution_count": 72,
   "id": "dae59d7d",
   "metadata": {},
   "outputs": [],
   "source": [
    "for i in train_Location_splits.keys():\n",
    "  test_sample[i] = le_l.transform(test_sample[i])"
   ]
  },
  {
   "cell_type": "code",
   "execution_count": 73,
   "id": "9f7c2b84",
   "metadata": {},
   "outputs": [],
   "source": [
    "for i in test_Cuisines_splits.keys():\n",
    "  test_sample[i] = le_c.transform(test_sample[i])"
   ]
  },
  {
   "cell_type": "code",
   "execution_count": 74,
   "id": "81d2f5eb",
   "metadata": {},
   "outputs": [],
   "source": [
    "# Restraunt id\n",
    "t1 = list(train_sample['Restaurant'])\n",
    "t2 = list(test_sample['Restaurant'])\n",
    "\n",
    "t1.extend(t2)\n",
    "unique_ids = list(set(t1))"
   ]
  },
  {
   "cell_type": "code",
   "execution_count": 75,
   "id": "879fe116",
   "metadata": {},
   "outputs": [
    {
     "data": {
      "text/plain": [
       "8661"
      ]
     },
     "execution_count": 75,
     "metadata": {},
     "output_type": "execute_result"
    }
   ],
   "source": [
    "len(unique_ids)"
   ]
  },
  {
   "cell_type": "code",
   "execution_count": 76,
   "id": "31334b8c",
   "metadata": {},
   "outputs": [],
   "source": [
    "le_id = LabelEncoder().fit(unique_ids)"
   ]
  },
  {
   "cell_type": "code",
   "execution_count": 77,
   "id": "afff4dfd",
   "metadata": {},
   "outputs": [],
   "source": [
    "train_sample['Restaurant'] = le_id.transform(train_sample['Restaurant'])\n",
    "test_sample['Restaurant'] = le_id.transform(test_sample['Restaurant'])"
   ]
  },
  {
   "cell_type": "markdown",
   "id": "afc19c1d",
   "metadata": {},
   "source": [
    "### Scaling"
   ]
  },
  {
   "cell_type": "code",
   "execution_count": 78,
   "id": "8e0d1c22",
   "metadata": {},
   "outputs": [],
   "source": [
    "cols = list(train_sample.columns)"
   ]
  },
  {
   "cell_type": "code",
   "execution_count": 79,
   "id": "9966b22c",
   "metadata": {},
   "outputs": [],
   "source": [
    "from sklearn.preprocessing import StandardScaler\n",
    "ss = StandardScaler()"
   ]
  },
  {
   "cell_type": "code",
   "execution_count": 80,
   "id": "85e06088",
   "metadata": {},
   "outputs": [],
   "source": [
    "train_sample[cols[:-1]] = ss.fit_transform(train_sample[cols[:-1]])"
   ]
  },
  {
   "cell_type": "code",
   "execution_count": 81,
   "id": "89e8e2e9",
   "metadata": {},
   "outputs": [],
   "source": [
    "test_sample[cols[:-1]] = ss.fit_transform(test_sample[cols[:-1]])"
   ]
  },
  {
   "cell_type": "code",
   "execution_count": 82,
   "id": "69c70cb4",
   "metadata": {},
   "outputs": [
    {
     "data": {
      "text/html": [
       "<div>\n",
       "<style scoped>\n",
       "    .dataframe tbody tr th:only-of-type {\n",
       "        vertical-align: middle;\n",
       "    }\n",
       "\n",
       "    .dataframe tbody tr th {\n",
       "        vertical-align: top;\n",
       "    }\n",
       "\n",
       "    .dataframe thead th {\n",
       "        text-align: right;\n",
       "    }\n",
       "</style>\n",
       "<table border=\"1\" class=\"dataframe\">\n",
       "  <thead>\n",
       "    <tr style=\"text-align: right;\">\n",
       "      <th></th>\n",
       "      <th>Location_Feature_1</th>\n",
       "      <th>Location_Feature_2</th>\n",
       "      <th>Location_Feature_3</th>\n",
       "      <th>Location_Feature_4</th>\n",
       "      <th>Cuisines_Feature_1</th>\n",
       "      <th>Cuisines_Feature_2</th>\n",
       "      <th>Cuisines_Feature_3</th>\n",
       "      <th>Cuisines_Feature_4</th>\n",
       "      <th>Cuisines_Feature_5</th>\n",
       "      <th>Cuisines_Feature_6</th>\n",
       "      <th>Cuisines_Feature_7</th>\n",
       "      <th>Cuisines_Feature_8</th>\n",
       "      <th>Restaurant</th>\n",
       "      <th>Average_Cost_Cleaned</th>\n",
       "      <th>Minimum_Order_Cleaned</th>\n",
       "      <th>Rating_Cleaned</th>\n",
       "      <th>Votes_Cleaned</th>\n",
       "      <th>Reviews_Cleaned</th>\n",
       "      <th>Delivery_Time</th>\n",
       "    </tr>\n",
       "  </thead>\n",
       "  <tbody>\n",
       "    <tr>\n",
       "      <th>0</th>\n",
       "      <td>-0.867166</td>\n",
       "      <td>-0.408678</td>\n",
       "      <td>1.683093</td>\n",
       "      <td>-0.161374</td>\n",
       "      <td>-0.714599</td>\n",
       "      <td>1.656380</td>\n",
       "      <td>0.137213</td>\n",
       "      <td>3.865914</td>\n",
       "      <td>7.460013</td>\n",
       "      <td>-0.125106</td>\n",
       "      <td>-0.08579</td>\n",
       "      <td>-0.057042</td>\n",
       "      <td>0.625956</td>\n",
       "      <td>-0.020864</td>\n",
       "      <td>-0.180293</td>\n",
       "      <td>-0.301852</td>\n",
       "      <td>-0.464423</td>\n",
       "      <td>-0.417345</td>\n",
       "      <td>30 minutes</td>\n",
       "    </tr>\n",
       "    <tr>\n",
       "      <th>1</th>\n",
       "      <td>1.246323</td>\n",
       "      <td>-0.117669</td>\n",
       "      <td>-0.660441</td>\n",
       "      <td>-0.161374</td>\n",
       "      <td>-0.312564</td>\n",
       "      <td>-0.125757</td>\n",
       "      <td>-0.621557</td>\n",
       "      <td>-0.359765</td>\n",
       "      <td>-0.205249</td>\n",
       "      <td>-0.125106</td>\n",
       "      <td>-0.08579</td>\n",
       "      <td>-0.057042</td>\n",
       "      <td>-0.897145</td>\n",
       "      <td>-0.791117</td>\n",
       "      <td>-0.180293</td>\n",
       "      <td>-0.301852</td>\n",
       "      <td>-0.466421</td>\n",
       "      <td>-0.417345</td>\n",
       "      <td>30 minutes</td>\n",
       "    </tr>\n",
       "    <tr>\n",
       "      <th>2</th>\n",
       "      <td>0.242416</td>\n",
       "      <td>-1.669717</td>\n",
       "      <td>-0.660441</td>\n",
       "      <td>-0.161374</td>\n",
       "      <td>-0.129821</td>\n",
       "      <td>1.953402</td>\n",
       "      <td>0.534663</td>\n",
       "      <td>-0.359765</td>\n",
       "      <td>-0.205249</td>\n",
       "      <td>-0.125106</td>\n",
       "      <td>-0.08579</td>\n",
       "      <td>-0.057042</td>\n",
       "      <td>-1.467013</td>\n",
       "      <td>-0.405990</td>\n",
       "      <td>-0.180293</td>\n",
       "      <td>-0.035808</td>\n",
       "      <td>-0.290596</td>\n",
       "      <td>-0.326311</td>\n",
       "      <td>65 minutes</td>\n",
       "    </tr>\n",
       "    <tr>\n",
       "      <th>3</th>\n",
       "      <td>1.140649</td>\n",
       "      <td>0.415848</td>\n",
       "      <td>-0.660441</td>\n",
       "      <td>-0.161374</td>\n",
       "      <td>0.637700</td>\n",
       "      <td>1.326354</td>\n",
       "      <td>0.354004</td>\n",
       "      <td>-0.359765</td>\n",
       "      <td>-0.205249</td>\n",
       "      <td>-0.125106</td>\n",
       "      <td>-0.08579</td>\n",
       "      <td>-0.057042</td>\n",
       "      <td>0.451808</td>\n",
       "      <td>0.364263</td>\n",
       "      <td>2.461158</td>\n",
       "      <td>0.230235</td>\n",
       "      <td>-0.136749</td>\n",
       "      <td>-0.098724</td>\n",
       "      <td>30 minutes</td>\n",
       "    </tr>\n",
       "    <tr>\n",
       "      <th>4</th>\n",
       "      <td>0.982137</td>\n",
       "      <td>-0.602684</td>\n",
       "      <td>2.580618</td>\n",
       "      <td>-0.161374</td>\n",
       "      <td>-1.043537</td>\n",
       "      <td>-0.620795</td>\n",
       "      <td>-0.621557</td>\n",
       "      <td>-0.359765</td>\n",
       "      <td>-0.205249</td>\n",
       "      <td>-0.125106</td>\n",
       "      <td>-0.08579</td>\n",
       "      <td>-0.057042</td>\n",
       "      <td>0.538284</td>\n",
       "      <td>-0.020864</td>\n",
       "      <td>2.461158</td>\n",
       "      <td>-1.099981</td>\n",
       "      <td>0.552564</td>\n",
       "      <td>0.391462</td>\n",
       "      <td>65 minutes</td>\n",
       "    </tr>\n",
       "  </tbody>\n",
       "</table>\n",
       "</div>"
      ],
      "text/plain": [
       "   Location_Feature_1  Location_Feature_2  Location_Feature_3  \\\n",
       "0           -0.867166           -0.408678            1.683093   \n",
       "1            1.246323           -0.117669           -0.660441   \n",
       "2            0.242416           -1.669717           -0.660441   \n",
       "3            1.140649            0.415848           -0.660441   \n",
       "4            0.982137           -0.602684            2.580618   \n",
       "\n",
       "   Location_Feature_4  Cuisines_Feature_1  Cuisines_Feature_2  \\\n",
       "0           -0.161374           -0.714599            1.656380   \n",
       "1           -0.161374           -0.312564           -0.125757   \n",
       "2           -0.161374           -0.129821            1.953402   \n",
       "3           -0.161374            0.637700            1.326354   \n",
       "4           -0.161374           -1.043537           -0.620795   \n",
       "\n",
       "   Cuisines_Feature_3  Cuisines_Feature_4  Cuisines_Feature_5  \\\n",
       "0            0.137213            3.865914            7.460013   \n",
       "1           -0.621557           -0.359765           -0.205249   \n",
       "2            0.534663           -0.359765           -0.205249   \n",
       "3            0.354004           -0.359765           -0.205249   \n",
       "4           -0.621557           -0.359765           -0.205249   \n",
       "\n",
       "   Cuisines_Feature_6  Cuisines_Feature_7  Cuisines_Feature_8  Restaurant  \\\n",
       "0           -0.125106            -0.08579           -0.057042    0.625956   \n",
       "1           -0.125106            -0.08579           -0.057042   -0.897145   \n",
       "2           -0.125106            -0.08579           -0.057042   -1.467013   \n",
       "3           -0.125106            -0.08579           -0.057042    0.451808   \n",
       "4           -0.125106            -0.08579           -0.057042    0.538284   \n",
       "\n",
       "   Average_Cost_Cleaned  Minimum_Order_Cleaned  Rating_Cleaned  Votes_Cleaned  \\\n",
       "0             -0.020864              -0.180293       -0.301852      -0.464423   \n",
       "1             -0.791117              -0.180293       -0.301852      -0.466421   \n",
       "2             -0.405990              -0.180293       -0.035808      -0.290596   \n",
       "3              0.364263               2.461158        0.230235      -0.136749   \n",
       "4             -0.020864               2.461158       -1.099981       0.552564   \n",
       "\n",
       "   Reviews_Cleaned Delivery_Time  \n",
       "0        -0.417345    30 minutes  \n",
       "1        -0.417345    30 minutes  \n",
       "2        -0.326311    65 minutes  \n",
       "3        -0.098724    30 minutes  \n",
       "4         0.391462    65 minutes  "
      ]
     },
     "execution_count": 82,
     "metadata": {},
     "output_type": "execute_result"
    }
   ],
   "source": [
    "train_sample.head()"
   ]
  },
  {
   "cell_type": "code",
   "execution_count": 83,
   "id": "29802fcb",
   "metadata": {},
   "outputs": [
    {
     "data": {
      "text/html": [
       "<div>\n",
       "<style scoped>\n",
       "    .dataframe tbody tr th:only-of-type {\n",
       "        vertical-align: middle;\n",
       "    }\n",
       "\n",
       "    .dataframe tbody tr th {\n",
       "        vertical-align: top;\n",
       "    }\n",
       "\n",
       "    .dataframe thead th {\n",
       "        text-align: right;\n",
       "    }\n",
       "</style>\n",
       "<table border=\"1\" class=\"dataframe\">\n",
       "  <thead>\n",
       "    <tr style=\"text-align: right;\">\n",
       "      <th></th>\n",
       "      <th>Location_Feature_1</th>\n",
       "      <th>Location_Feature_2</th>\n",
       "      <th>Location_Feature_3</th>\n",
       "      <th>Location_Feature_4</th>\n",
       "      <th>Cuisines_Feature_1</th>\n",
       "      <th>Cuisines_Feature_2</th>\n",
       "      <th>Cuisines_Feature_3</th>\n",
       "      <th>Cuisines_Feature_4</th>\n",
       "      <th>Cuisines_Feature_5</th>\n",
       "      <th>Cuisines_Feature_6</th>\n",
       "      <th>Cuisines_Feature_7</th>\n",
       "      <th>Cuisines_Feature_8</th>\n",
       "      <th>Restaurant</th>\n",
       "      <th>Average_Cost_Cleaned</th>\n",
       "      <th>Minimum_Order_Cleaned</th>\n",
       "      <th>Rating_Cleaned</th>\n",
       "      <th>Votes_Cleaned</th>\n",
       "      <th>Reviews_Cleaned</th>\n",
       "    </tr>\n",
       "  </thead>\n",
       "  <tbody>\n",
       "    <tr>\n",
       "      <th>0</th>\n",
       "      <td>0.083713</td>\n",
       "      <td>1.243494</td>\n",
       "      <td>-0.479103</td>\n",
       "      <td>0.871523</td>\n",
       "      <td>0.809765</td>\n",
       "      <td>-0.204497</td>\n",
       "      <td>-0.346423</td>\n",
       "      <td>-0.351099</td>\n",
       "      <td>-0.196822</td>\n",
       "      <td>-0.12173</td>\n",
       "      <td>-0.082445</td>\n",
       "      <td>-0.042516</td>\n",
       "      <td>-0.897086</td>\n",
       "      <td>1.350471</td>\n",
       "      <td>-0.177278</td>\n",
       "      <td>1.612406</td>\n",
       "      <td>0.276837</td>\n",
       "      <td>0.428327</td>\n",
       "    </tr>\n",
       "    <tr>\n",
       "      <th>1</th>\n",
       "      <td>0.083713</td>\n",
       "      <td>1.243494</td>\n",
       "      <td>-0.479103</td>\n",
       "      <td>0.871523</td>\n",
       "      <td>-1.302905</td>\n",
       "      <td>0.628995</td>\n",
       "      <td>-0.605296</td>\n",
       "      <td>-0.351099</td>\n",
       "      <td>-0.196822</td>\n",
       "      <td>-0.12173</td>\n",
       "      <td>-0.082445</td>\n",
       "      <td>-0.042516</td>\n",
       "      <td>1.096904</td>\n",
       "      <td>-0.833142</td>\n",
       "      <td>-0.177278</td>\n",
       "      <td>0.029586</td>\n",
       "      <td>0.029087</td>\n",
       "      <td>0.035125</td>\n",
       "    </tr>\n",
       "    <tr>\n",
       "      <th>2</th>\n",
       "      <td>1.143599</td>\n",
       "      <td>0.416451</td>\n",
       "      <td>-0.673221</td>\n",
       "      <td>-0.151585</td>\n",
       "      <td>-0.746940</td>\n",
       "      <td>-1.104668</td>\n",
       "      <td>-0.605296</td>\n",
       "      <td>-0.351099</td>\n",
       "      <td>-0.196822</td>\n",
       "      <td>-0.12173</td>\n",
       "      <td>-0.082445</td>\n",
       "      <td>-0.042516</td>\n",
       "      <td>-0.101583</td>\n",
       "      <td>-0.833142</td>\n",
       "      <td>-0.177278</td>\n",
       "      <td>-0.006736</td>\n",
       "      <td>-0.411358</td>\n",
       "      <td>-0.377352</td>\n",
       "    </tr>\n",
       "    <tr>\n",
       "      <th>3</th>\n",
       "      <td>-1.665097</td>\n",
       "      <td>0.367801</td>\n",
       "      <td>-0.236455</td>\n",
       "      <td>-0.151585</td>\n",
       "      <td>0.513250</td>\n",
       "      <td>1.362467</td>\n",
       "      <td>0.393217</td>\n",
       "      <td>1.259565</td>\n",
       "      <td>7.241203</td>\n",
       "      <td>-0.12173</td>\n",
       "      <td>-0.082445</td>\n",
       "      <td>-0.042516</td>\n",
       "      <td>0.278454</td>\n",
       "      <td>0.040303</td>\n",
       "      <td>-0.177278</td>\n",
       "      <td>-0.006736</td>\n",
       "      <td>-0.347833</td>\n",
       "      <td>-0.311818</td>\n",
       "    </tr>\n",
       "    <tr>\n",
       "      <th>4</th>\n",
       "      <td>1.143599</td>\n",
       "      <td>0.416451</td>\n",
       "      <td>-0.673221</td>\n",
       "      <td>-0.151585</td>\n",
       "      <td>-0.932262</td>\n",
       "      <td>-0.037799</td>\n",
       "      <td>-0.605296</td>\n",
       "      <td>-0.351099</td>\n",
       "      <td>-0.196822</td>\n",
       "      <td>-0.12173</td>\n",
       "      <td>-0.082445</td>\n",
       "      <td>-0.042516</td>\n",
       "      <td>-0.715119</td>\n",
       "      <td>-0.396419</td>\n",
       "      <td>-0.177278</td>\n",
       "      <td>-1.895735</td>\n",
       "      <td>-0.407123</td>\n",
       "      <td>-0.385062</td>\n",
       "    </tr>\n",
       "  </tbody>\n",
       "</table>\n",
       "</div>"
      ],
      "text/plain": [
       "   Location_Feature_1  Location_Feature_2  Location_Feature_3  \\\n",
       "0            0.083713            1.243494           -0.479103   \n",
       "1            0.083713            1.243494           -0.479103   \n",
       "2            1.143599            0.416451           -0.673221   \n",
       "3           -1.665097            0.367801           -0.236455   \n",
       "4            1.143599            0.416451           -0.673221   \n",
       "\n",
       "   Location_Feature_4  Cuisines_Feature_1  Cuisines_Feature_2  \\\n",
       "0            0.871523            0.809765           -0.204497   \n",
       "1            0.871523           -1.302905            0.628995   \n",
       "2           -0.151585           -0.746940           -1.104668   \n",
       "3           -0.151585            0.513250            1.362467   \n",
       "4           -0.151585           -0.932262           -0.037799   \n",
       "\n",
       "   Cuisines_Feature_3  Cuisines_Feature_4  Cuisines_Feature_5  \\\n",
       "0           -0.346423           -0.351099           -0.196822   \n",
       "1           -0.605296           -0.351099           -0.196822   \n",
       "2           -0.605296           -0.351099           -0.196822   \n",
       "3            0.393217            1.259565            7.241203   \n",
       "4           -0.605296           -0.351099           -0.196822   \n",
       "\n",
       "   Cuisines_Feature_6  Cuisines_Feature_7  Cuisines_Feature_8  Restaurant  \\\n",
       "0            -0.12173           -0.082445           -0.042516   -0.897086   \n",
       "1            -0.12173           -0.082445           -0.042516    1.096904   \n",
       "2            -0.12173           -0.082445           -0.042516   -0.101583   \n",
       "3            -0.12173           -0.082445           -0.042516    0.278454   \n",
       "4            -0.12173           -0.082445           -0.042516   -0.715119   \n",
       "\n",
       "   Average_Cost_Cleaned  Minimum_Order_Cleaned  Rating_Cleaned  Votes_Cleaned  \\\n",
       "0              1.350471              -0.177278        1.612406       0.276837   \n",
       "1             -0.833142              -0.177278        0.029586       0.029087   \n",
       "2             -0.833142              -0.177278       -0.006736      -0.411358   \n",
       "3              0.040303              -0.177278       -0.006736      -0.347833   \n",
       "4             -0.396419              -0.177278       -1.895735      -0.407123   \n",
       "\n",
       "   Reviews_Cleaned  \n",
       "0         0.428327  \n",
       "1         0.035125  \n",
       "2        -0.377352  \n",
       "3        -0.311818  \n",
       "4        -0.385062  "
      ]
     },
     "execution_count": 83,
     "metadata": {},
     "output_type": "execute_result"
    }
   ],
   "source": [
    "test_sample.head()"
   ]
  },
  {
   "cell_type": "markdown",
   "id": "3a44747e",
   "metadata": {},
   "source": [
    "### Modeling"
   ]
  },
  {
   "cell_type": "code",
   "execution_count": 84,
   "id": "ac9bd034",
   "metadata": {},
   "outputs": [],
   "source": [
    "from sklearn.model_selection import train_test_split\n",
    "\n",
    "train, val = train_test_split(train_sample, test_size = 0.1, random_state = 123)"
   ]
  },
  {
   "cell_type": "code",
   "execution_count": 85,
   "id": "9b1c75e6",
   "metadata": {},
   "outputs": [],
   "source": [
    "X_train = train[cols[:-1]]\n",
    "Y_train = train[cols[-1]]\n",
    "\n",
    "X_Val = val[cols[:-1]]\n",
    "Y_Val = val[cols[-1]]\n",
    "\n",
    "X_test = test_sample[cols[:-1]]"
   ]
  },
  {
   "cell_type": "code",
   "execution_count": 88,
   "id": "148b6607",
   "metadata": {},
   "outputs": [
    {
     "ename": "ValueError",
     "evalue": "Invalid classes inferred from unique values of `y`.  Expected: [0 1 2 3 4 5 6], got ['10 minutes' '120 minutes' '20 minutes' '30 minutes' '45 minutes'\n '65 minutes' '80 minutes']",
     "output_type": "error",
     "traceback": [
      "\u001b[1;31m---------------------------------------------------------------------------\u001b[0m",
      "\u001b[1;31mValueError\u001b[0m                                Traceback (most recent call last)",
      "\u001b[1;32m<ipython-input-88-10c451837361>\u001b[0m in \u001b[0;36m<module>\u001b[1;34m\u001b[0m\n\u001b[0;32m      3\u001b[0m \u001b[0mxgb\u001b[0m \u001b[1;33m=\u001b[0m \u001b[0mXGBClassifier\u001b[0m\u001b[1;33m(\u001b[0m\u001b[1;33m)\u001b[0m\u001b[1;33m\u001b[0m\u001b[1;33m\u001b[0m\u001b[0m\n\u001b[0;32m      4\u001b[0m \u001b[1;33m\u001b[0m\u001b[0m\n\u001b[1;32m----> 5\u001b[1;33m \u001b[0mxgb\u001b[0m\u001b[1;33m.\u001b[0m\u001b[0mfit\u001b[0m\u001b[1;33m(\u001b[0m\u001b[0mX_train\u001b[0m\u001b[1;33m,\u001b[0m\u001b[0mY_train\u001b[0m\u001b[1;33m)\u001b[0m\u001b[1;33m\u001b[0m\u001b[1;33m\u001b[0m\u001b[0m\n\u001b[0m",
      "\u001b[1;32m~\\anaconda3\\lib\\site-packages\\xgboost\\core.py\u001b[0m in \u001b[0;36minner_f\u001b[1;34m(*args, **kwargs)\u001b[0m\n\u001b[0;32m    530\u001b[0m         \u001b[1;32mfor\u001b[0m \u001b[0mk\u001b[0m\u001b[1;33m,\u001b[0m \u001b[0marg\u001b[0m \u001b[1;32min\u001b[0m \u001b[0mzip\u001b[0m\u001b[1;33m(\u001b[0m\u001b[0msig\u001b[0m\u001b[1;33m.\u001b[0m\u001b[0mparameters\u001b[0m\u001b[1;33m,\u001b[0m \u001b[0margs\u001b[0m\u001b[1;33m)\u001b[0m\u001b[1;33m:\u001b[0m\u001b[1;33m\u001b[0m\u001b[1;33m\u001b[0m\u001b[0m\n\u001b[0;32m    531\u001b[0m             \u001b[0mkwargs\u001b[0m\u001b[1;33m[\u001b[0m\u001b[0mk\u001b[0m\u001b[1;33m]\u001b[0m \u001b[1;33m=\u001b[0m \u001b[0marg\u001b[0m\u001b[1;33m\u001b[0m\u001b[1;33m\u001b[0m\u001b[0m\n\u001b[1;32m--> 532\u001b[1;33m         \u001b[1;32mreturn\u001b[0m \u001b[0mf\u001b[0m\u001b[1;33m(\u001b[0m\u001b[1;33m**\u001b[0m\u001b[0mkwargs\u001b[0m\u001b[1;33m)\u001b[0m\u001b[1;33m\u001b[0m\u001b[1;33m\u001b[0m\u001b[0m\n\u001b[0m\u001b[0;32m    533\u001b[0m \u001b[1;33m\u001b[0m\u001b[0m\n\u001b[0;32m    534\u001b[0m     \u001b[1;32mreturn\u001b[0m \u001b[0minner_f\u001b[0m\u001b[1;33m\u001b[0m\u001b[1;33m\u001b[0m\u001b[0m\n",
      "\u001b[1;32m~\\anaconda3\\lib\\site-packages\\xgboost\\sklearn.py\u001b[0m in \u001b[0;36mfit\u001b[1;34m(self, X, y, sample_weight, base_margin, eval_set, eval_metric, early_stopping_rounds, verbose, xgb_model, sample_weight_eval_set, base_margin_eval_set, feature_weights, callbacks)\u001b[0m\n\u001b[0;32m   1355\u001b[0m             \u001b[1;32mor\u001b[0m \u001b[1;32mnot\u001b[0m \u001b[1;33m(\u001b[0m\u001b[0mself\u001b[0m\u001b[1;33m.\u001b[0m\u001b[0mclasses_\u001b[0m \u001b[1;33m==\u001b[0m \u001b[0mexpected_classes\u001b[0m\u001b[1;33m)\u001b[0m\u001b[1;33m.\u001b[0m\u001b[0mall\u001b[0m\u001b[1;33m(\u001b[0m\u001b[1;33m)\u001b[0m\u001b[1;33m\u001b[0m\u001b[1;33m\u001b[0m\u001b[0m\n\u001b[0;32m   1356\u001b[0m         ):\n\u001b[1;32m-> 1357\u001b[1;33m             raise ValueError(\n\u001b[0m\u001b[0;32m   1358\u001b[0m                 \u001b[1;34mf\"Invalid classes inferred from unique values of `y`.  \"\u001b[0m\u001b[1;33m\u001b[0m\u001b[1;33m\u001b[0m\u001b[0m\n\u001b[0;32m   1359\u001b[0m                 \u001b[1;34mf\"Expected: {expected_classes}, got {self.classes_}\"\u001b[0m\u001b[1;33m\u001b[0m\u001b[1;33m\u001b[0m\u001b[0m\n",
      "\u001b[1;31mValueError\u001b[0m: Invalid classes inferred from unique values of `y`.  Expected: [0 1 2 3 4 5 6], got ['10 minutes' '120 minutes' '20 minutes' '30 minutes' '45 minutes'\n '65 minutes' '80 minutes']"
     ]
    }
   ],
   "source": [
    "from xgboost import XGBClassifier\n",
    "\n",
    "xgb = XGBClassifier()\n",
    "\n",
    "xgb.fit(X_train,Y_train)"
   ]
  },
  {
   "cell_type": "code",
   "execution_count": 89,
   "id": "c0b68001",
   "metadata": {},
   "outputs": [],
   "source": [
    "from sklearn.tree import DecisionTreeClassifier\n",
    "clf = DecisionTreeClassifier(random_state=0)"
   ]
  },
  {
   "cell_type": "code",
   "execution_count": 90,
   "id": "aac027ce",
   "metadata": {},
   "outputs": [
    {
     "data": {
      "text/plain": [
       "0.6954954954954955"
      ]
     },
     "execution_count": 90,
     "metadata": {},
     "output_type": "execute_result"
    }
   ],
   "source": [
    "clf.fit(X_train,Y_train)\n",
    "clf.score(X_Val,Y_Val)"
   ]
  },
  {
   "cell_type": "code",
   "execution_count": 91,
   "id": "f0779458",
   "metadata": {},
   "outputs": [],
   "source": [
    "from sklearn.ensemble import RandomForestClassifier\n",
    "Rforest = RandomForestClassifier()"
   ]
  },
  {
   "cell_type": "code",
   "execution_count": 92,
   "id": "6673ae1d",
   "metadata": {},
   "outputs": [
    {
     "data": {
      "text/plain": [
       "0.7783783783783784"
      ]
     },
     "execution_count": 92,
     "metadata": {},
     "output_type": "execute_result"
    }
   ],
   "source": [
    "Rforest.fit(X_train,Y_train)\n",
    "Rforest.score(X_Val,Y_Val)"
   ]
  },
  {
   "cell_type": "code",
   "execution_count": 93,
   "id": "134f4033",
   "metadata": {},
   "outputs": [],
   "source": [
    "Predictions = Rforest.predict(X_test)"
   ]
  },
  {
   "cell_type": "code",
   "execution_count": null,
   "id": "cd3fe421",
   "metadata": {},
   "outputs": [],
   "source": []
  }
 ],
 "metadata": {
  "kernelspec": {
   "display_name": "Python 3",
   "language": "python",
   "name": "python3"
  },
  "language_info": {
   "codemirror_mode": {
    "name": "ipython",
    "version": 3
   },
   "file_extension": ".py",
   "mimetype": "text/x-python",
   "name": "python",
   "nbconvert_exporter": "python",
   "pygments_lexer": "ipython3",
   "version": "3.8.8"
  }
 },
 "nbformat": 4,
 "nbformat_minor": 5
}
